{
 "cells": [
  {
   "cell_type": "markdown",
   "metadata": {},
   "source": [
    "# Projeto 1 - Ciência dos Dados"
   ]
  },
  {
   "cell_type": "markdown",
   "metadata": {},
   "source": [
    "Nome: Venâncio Freitas de Araújo Filho\n",
    "\n",
    "Nome: WELLINGTON RODRIGUES DA SILVA"
   ]
  },
  {
   "cell_type": "markdown",
   "metadata": {},
   "source": [
    "Atenção: Serão permitidos grupos de três pessoas, mas com uma rubrica mais exigente. Grupos deste tamanho precisarão fazer um questionário de avaliação de trabalho em equipe"
   ]
  },
  {
   "cell_type": "markdown",
   "metadata": {},
   "source": [
    "___\n",
    "Carregando algumas bibliotecas:"
   ]
  },
  {
   "cell_type": "code",
   "execution_count": 419,
   "metadata": {},
   "outputs": [
    {
     "name": "stderr",
     "output_type": "stream",
     "text": [
      "[nltk_data] Downloading package punkt to\n",
      "[nltk_data]     C:\\Users\\Wellington\\AppData\\Roaming\\nltk_data...\n",
      "[nltk_data]   Package punkt is already up-to-date!\n",
      "[nltk_data] Downloading package stopwords to\n",
      "[nltk_data]     C:\\Users\\Wellington\\AppData\\Roaming\\nltk_data...\n",
      "[nltk_data]   Package stopwords is already up-to-date!\n",
      "[nltk_data] Downloading package punkt to\n",
      "[nltk_data]     C:\\Users\\Wellington\\AppData\\Roaming\\nltk_data...\n",
      "[nltk_data]   Package punkt is already up-to-date!\n"
     ]
    },
    {
     "data": {
      "text/plain": [
       "True"
      ]
     },
     "execution_count": 419,
     "metadata": {},
     "output_type": "execute_result"
    }
   ],
   "source": [
    "%matplotlib inline\n",
    "import pandas as pd\n",
    "import matplotlib.pyplot as plt\n",
    "import numpy as np\n",
    "import os\n",
    "\n",
    "import nltk\n",
    "from nltk.stem import PorterStemmer\n",
    "nltk.download('punkt')\n",
    "\n",
    "from nltk.corpus import stopwords\n",
    "from nltk.tokenize import word_tokenize\n",
    "nltk.download('stopwords')\n",
    "nltk.download('punkt')"
   ]
  },
  {
   "cell_type": "code",
   "execution_count": 420,
   "metadata": {
    "scrolled": false
   },
   "outputs": [
    {
     "name": "stdout",
     "output_type": "stream",
     "text": [
      "Esperamos trabalhar no diretório\n",
      "C:\\Users\\Wellington\\OneDrive - Insper - Institudo de Ensino e Pesquisa\\Cdados\\Projeto 1\n"
     ]
    }
   ],
   "source": [
    "print('Esperamos trabalhar no diretório')\n",
    "print(os.getcwd())"
   ]
  },
  {
   "cell_type": "markdown",
   "metadata": {},
   "source": [
    "Dados de Treino: "
   ]
  },
  {
   "cell_type": "markdown",
   "metadata": {},
   "source": [
    "Carregando a base de dados com os tweets classificados manualmente:"
   ]
  },
  {
   "cell_type": "code",
   "execution_count": 421,
   "metadata": {
    "scrolled": true
   },
   "outputs": [
    {
     "data": {
      "text/html": [
       "<div>\n",
       "<style scoped>\n",
       "    .dataframe tbody tr th:only-of-type {\n",
       "        vertical-align: middle;\n",
       "    }\n",
       "\n",
       "    .dataframe tbody tr th {\n",
       "        vertical-align: top;\n",
       "    }\n",
       "\n",
       "    .dataframe thead th {\n",
       "        text-align: right;\n",
       "    }\n",
       "</style>\n",
       "<table border=\"1\" class=\"dataframe\">\n",
       "  <thead>\n",
       "    <tr style=\"text-align: right;\">\n",
       "      <th></th>\n",
       "      <th>Mensagem</th>\n",
       "      <th>Target</th>\n",
       "    </tr>\n",
       "  </thead>\n",
       "  <tbody>\n",
       "    <tr>\n",
       "      <th>0</th>\n",
       "      <td>Muito erros grosseiros de tradução. O material...</td>\n",
       "      <td>Editora</td>\n",
       "    </tr>\n",
       "    <tr>\n",
       "      <th>1</th>\n",
       "      <td>Primeiramente meu pedido nem veio,Mas me reemb...</td>\n",
       "      <td>Amazon</td>\n",
       "    </tr>\n",
       "    <tr>\n",
       "      <th>2</th>\n",
       "      <td>Livro com um monte de clichês, mas com pouco c...</td>\n",
       "      <td>Editora</td>\n",
       "    </tr>\n",
       "    <tr>\n",
       "      <th>3</th>\n",
       "      <td>Sim.adorei o livro Vou continuar a comprar o r...</td>\n",
       "      <td>Editora</td>\n",
       "    </tr>\n",
       "    <tr>\n",
       "      <th>4</th>\n",
       "      <td>Não recebi o livro . Não sei o motivo. Foi fei...</td>\n",
       "      <td>Amazon</td>\n",
       "    </tr>\n",
       "    <tr>\n",
       "      <th>...</th>\n",
       "      <td>...</td>\n",
       "      <td>...</td>\n",
       "    </tr>\n",
       "    <tr>\n",
       "      <th>293</th>\n",
       "      <td>O livro foi classificado como novo no site e c...</td>\n",
       "      <td>Amazon</td>\n",
       "    </tr>\n",
       "    <tr>\n",
       "      <th>294</th>\n",
       "      <td>Não gostei porquê a capa veio com um rasgo, o ...</td>\n",
       "      <td>Amazon</td>\n",
       "    </tr>\n",
       "    <tr>\n",
       "      <th>295</th>\n",
       "      <td>EU NEM SE QUER RECEBI O PRODUTO! Voces são mui...</td>\n",
       "      <td>Amazon</td>\n",
       "    </tr>\n",
       "    <tr>\n",
       "      <th>296</th>\n",
       "      <td>Não consigo entender o alto valor desses e-boo...</td>\n",
       "      <td>Amazon</td>\n",
       "    </tr>\n",
       "    <tr>\n",
       "      <th>297</th>\n",
       "      <td>a caixa veio rasgada e amassada, gostaria de u...</td>\n",
       "      <td>Amazon</td>\n",
       "    </tr>\n",
       "  </tbody>\n",
       "</table>\n",
       "<p>298 rows × 2 columns</p>\n",
       "</div>"
      ],
      "text/plain": [
       "                                              Mensagem   Target\n",
       "0    Muito erros grosseiros de tradução. O material...  Editora\n",
       "1    Primeiramente meu pedido nem veio,Mas me reemb...   Amazon\n",
       "2    Livro com um monte de clichês, mas com pouco c...  Editora\n",
       "3    Sim.adorei o livro Vou continuar a comprar o r...  Editora\n",
       "4    Não recebi o livro . Não sei o motivo. Foi fei...   Amazon\n",
       "..                                                 ...      ...\n",
       "293  O livro foi classificado como novo no site e c...   Amazon\n",
       "294  Não gostei porquê a capa veio com um rasgo, o ...   Amazon\n",
       "295  EU NEM SE QUER RECEBI O PRODUTO! Voces são mui...   Amazon\n",
       "296  Não consigo entender o alto valor desses e-boo...   Amazon\n",
       "297  a caixa veio rasgada e amassada, gostaria de u...   Amazon\n",
       "\n",
       "[298 rows x 2 columns]"
      ]
     },
     "execution_count": 421,
     "metadata": {},
     "output_type": "execute_result"
    }
   ],
   "source": [
    "train = pd.read_excel('dados_treino.xlsx')\n",
    "train"
   ]
  },
  {
   "cell_type": "code",
   "execution_count": 422,
   "metadata": {},
   "outputs": [
    {
     "data": {
      "text/plain": [
       "Autor      0.377\n",
       "Editora    0.311\n",
       "Amazon     0.311\n",
       "Name: Target, dtype: float64"
      ]
     },
     "execution_count": 422,
     "metadata": {},
     "output_type": "execute_result"
    }
   ],
   "source": [
    "train.Target.value_counts(True).round(3)"
   ]
  },
  {
   "cell_type": "markdown",
   "metadata": {},
   "source": [
    "Dados de Teste\n"
   ]
  },
  {
   "cell_type": "code",
   "execution_count": 423,
   "metadata": {
    "scrolled": true
   },
   "outputs": [
    {
     "data": {
      "text/html": [
       "<div>\n",
       "<style scoped>\n",
       "    .dataframe tbody tr th:only-of-type {\n",
       "        vertical-align: middle;\n",
       "    }\n",
       "\n",
       "    .dataframe tbody tr th {\n",
       "        vertical-align: top;\n",
       "    }\n",
       "\n",
       "    .dataframe thead th {\n",
       "        text-align: right;\n",
       "    }\n",
       "</style>\n",
       "<table border=\"1\" class=\"dataframe\">\n",
       "  <thead>\n",
       "    <tr style=\"text-align: right;\">\n",
       "      <th></th>\n",
       "      <th>Mensagem</th>\n",
       "      <th>Target</th>\n",
       "    </tr>\n",
       "  </thead>\n",
       "  <tbody>\n",
       "    <tr>\n",
       "      <th>0</th>\n",
       "      <td>Amontoado de proposições absurdas destinadas a...</td>\n",
       "      <td>Autor</td>\n",
       "    </tr>\n",
       "    <tr>\n",
       "      <th>1</th>\n",
       "      <td>Quando comprei esse livro fui com uma grande e...</td>\n",
       "      <td>Autor</td>\n",
       "    </tr>\n",
       "    <tr>\n",
       "      <th>2</th>\n",
       "      <td>Li um terço do livro. Arrastei-me para procura...</td>\n",
       "      <td>Autor</td>\n",
       "    </tr>\n",
       "    <tr>\n",
       "      <th>3</th>\n",
       "      <td>Sensacionalista, raso e cheio de distorções ma...</td>\n",
       "      <td>Autor</td>\n",
       "    </tr>\n",
       "    <tr>\n",
       "      <th>4</th>\n",
       "      <td>A mensagem do livro da pra entender em 1 págin...</td>\n",
       "      <td>Autor</td>\n",
       "    </tr>\n",
       "  </tbody>\n",
       "</table>\n",
       "</div>"
      ],
      "text/plain": [
       "                                            Mensagem Target\n",
       "0  Amontoado de proposições absurdas destinadas a...  Autor\n",
       "1  Quando comprei esse livro fui com uma grande e...  Autor\n",
       "2  Li um terço do livro. Arrastei-me para procura...  Autor\n",
       "3  Sensacionalista, raso e cheio de distorções ma...  Autor\n",
       "4  A mensagem do livro da pra entender em 1 págin...  Autor"
      ]
     },
     "execution_count": 423,
     "metadata": {},
     "output_type": "execute_result"
    }
   ],
   "source": [
    "test = pd.read_excel('dados_teste.xlsx')\n",
    "test.head(5)"
   ]
  },
  {
   "cell_type": "code",
   "execution_count": 424,
   "metadata": {},
   "outputs": [
    {
     "data": {
      "text/plain": [
       "Autor      102\n",
       "Editora     76\n",
       "Amazon      33\n",
       "Name: Target, dtype: int64"
      ]
     },
     "execution_count": 424,
     "metadata": {},
     "output_type": "execute_result"
    }
   ],
   "source": [
    "test.Target.value_counts()"
   ]
  },
  {
   "cell_type": "code",
   "execution_count": 425,
   "metadata": {},
   "outputs": [
    {
     "data": {
      "text/plain": [
       "0      Autor\n",
       "1      Autor\n",
       "2      Autor\n",
       "3      Autor\n",
       "4      Autor\n",
       "       ...  \n",
       "206    Autor\n",
       "207    Autor\n",
       "208    Autor\n",
       "209    Autor\n",
       "210    Autor\n",
       "Name: Target, Length: 211, dtype: object"
      ]
     },
     "execution_count": 425,
     "metadata": {},
     "output_type": "execute_result"
    }
   ],
   "source": [
    "test.Target"
   ]
  },
  {
   "cell_type": "markdown",
   "metadata": {},
   "source": [
    "___\n",
    "## Classificador automático\n"
   ]
  },
  {
   "cell_type": "markdown",
   "metadata": {},
   "source": [
    "Faça aqui uma descrição do seu assunto e o que considerou como relevante ou não relevante na classificação dos tweets (Target).\n",
    "\n",
    "ESCREVA AQUI..."
   ]
  },
  {
   "cell_type": "markdown",
   "metadata": {},
   "source": [
    "___\n",
    "### Montando um Classificador Naive-Bayes\n",
    "\n",
    "Considerando apenas as mensagens da planilha Treinamento, ensine  seu classificador."
   ]
  },
  {
   "cell_type": "markdown",
   "metadata": {},
   "source": [
    "## 1.Vamos Iniciar Extraindo os Dados Referente à cada rótulo"
   ]
  },
  {
   "cell_type": "markdown",
   "metadata": {},
   "source": [
    "Função CleanUp:"
   ]
  },
  {
   "cell_type": "code",
   "execution_count": 426,
   "metadata": {},
   "outputs": [],
   "source": [
    "import re \n",
    "\n",
    "def cleanup(text):\n",
    "    \"\"\"\n",
    "        Função de limpeza muito simples que troca alguns sinais básicos por espaços\n",
    "    \"\"\"\n",
    "    #import string\n",
    "    punctuation = '[´\"!-.:?;$'']' # Note que os sinais [] são delimitadores de um conjunto.\n",
    "    pattern = re.compile(punctuation)\n",
    "    text_subbed = re.sub(pattern, '', text)\n",
    "    return text_subbed"
   ]
  },
  {
   "cell_type": "markdown",
   "metadata": {},
   "source": [
    "1. Dados do Autor "
   ]
  },
  {
   "cell_type": "code",
   "execution_count": 427,
   "metadata": {
    "scrolled": true
   },
   "outputs": [
    {
     "name": "stdout",
     "output_type": "stream",
     "text": [
      "                                             Mensagem Target\n",
      "40  Como o livro se concentra na política american...  Autor\n",
      "42  Achei ridículo! Eu realmente esperava uma hist...  Autor\n"
     ]
    }
   ],
   "source": [
    "dados_autor  = train.loc[train.Target == 'Autor' , :]\n",
    "print(dados_autor.head(2))"
   ]
  },
  {
   "cell_type": "code",
   "execution_count": 428,
   "metadata": {},
   "outputs": [
    {
     "name": "stdout",
     "output_type": "stream",
     "text": [
      "(6683,)\n"
     ]
    }
   ],
   "source": [
    "#Montando um Texto\n",
    "texto_comentários_autor = ''\n",
    "for i in dados_autor.Mensagem: \n",
    "    texto_comentários_autor += i\n",
    "    texto_comentários_autor += ' '\n",
    "texto_comentários_autor = cleanup(texto_comentários_autor)\n",
    "texto_comentarios_autor = texto_comentários_autor.lower()\n",
    "texto_comentarios_autor = texto_comentarios_autor.split(' ')\n",
    "tabela_autor = pd.Series(texto_comentarios_autor )\n",
    "tabela_autor.head()\n",
    "print(tabela_autor.shape)"
   ]
  },
  {
   "cell_type": "markdown",
   "metadata": {},
   "source": [
    "Tabelas Relativas ao autor "
   ]
  },
  {
   "cell_type": "code",
   "execution_count": 429,
   "metadata": {},
   "outputs": [],
   "source": [
    "#Frequências Absolutas \n",
    "tabela_autor_abs = tabela_autor.value_counts()"
   ]
  },
  {
   "cell_type": "code",
   "execution_count": 430,
   "metadata": {},
   "outputs": [
    {
     "data": {
      "text/plain": [
       "de                 0.038306\n",
       "o                  0.035463\n",
       "que                0.033368\n",
       "e                  0.030226\n",
       "a                  0.029328\n",
       "                     ...   \n",
       "passaria           0.000150\n",
       "praticamente       0.000150\n",
       "apontar            0.000150\n",
       "efetivo            0.000150\n",
       "relacionamentos    0.000150\n",
       "Length: 1982, dtype: float64"
      ]
     },
     "execution_count": 430,
     "metadata": {},
     "output_type": "execute_result"
    }
   ],
   "source": [
    "#Frequências relativas \n",
    "tabela_autor_relativa = tabela_autor.value_counts(True)\n",
    "tabela_autor_relativa "
   ]
  },
  {
   "cell_type": "code",
   "execution_count": 431,
   "metadata": {},
   "outputs": [
    {
     "data": {
      "text/plain": [
       "6683"
      ]
     },
     "execution_count": 431,
     "metadata": {},
     "output_type": "execute_result"
    }
   ],
   "source": [
    "tabela_autor_abs.sum()"
   ]
  },
  {
   "cell_type": "markdown",
   "metadata": {},
   "source": [
    "## 2. Dados da Editora "
   ]
  },
  {
   "cell_type": "code",
   "execution_count": 432,
   "metadata": {},
   "outputs": [
    {
     "data": {
      "text/plain": [
       "(90, 2)"
      ]
     },
     "execution_count": 432,
     "metadata": {},
     "output_type": "execute_result"
    }
   ],
   "source": [
    "dados_editora = train.loc[train.Target == 'Editora' , :]\n",
    "dados_editora.shape"
   ]
  },
  {
   "cell_type": "code",
   "execution_count": 433,
   "metadata": {},
   "outputs": [
    {
     "name": "stdout",
     "output_type": "stream",
     "text": [
      "0         muito\n",
      "1         erros\n",
      "2    grosseiros\n",
      "3            de\n",
      "4      tradução\n",
      "dtype: object\n",
      "(4727,)\n"
     ]
    }
   ],
   "source": [
    "comentarios_editora = dados_editora.Mensagem\n",
    "texto_editora = ''\n",
    "for e in comentarios_editora:\n",
    "    texto_editora += e \n",
    "    texto_editora += ' '\n",
    "texto_editora = cleanup(texto_editora)\n",
    "texto_editora = texto_editora.lower()\n",
    "texto_editora = texto_editora.split(' ')\n",
    "tabela_editora = pd.Series(texto_editora)\n",
    "print(tabela_editora.head())\n",
    "print(tabela_editora.shape)"
   ]
  },
  {
   "cell_type": "markdown",
   "metadata": {},
   "source": [
    "Frequências relativas às tabelas"
   ]
  },
  {
   "cell_type": "code",
   "execution_count": 434,
   "metadata": {},
   "outputs": [],
   "source": [
    "#Frequência absoluta\n",
    "tabela_editora_abs = tabela_editora.value_counts()"
   ]
  },
  {
   "cell_type": "code",
   "execution_count": 435,
   "metadata": {},
   "outputs": [
    {
     "data": {
      "text/plain": [
       "de          0.041041\n",
       "a           0.033425\n",
       "o           0.029406\n",
       "que         0.028348\n",
       "e           0.027925\n",
       "              ...   \n",
       "perdemos    0.000212\n",
       "lendo       0.000212\n",
       "viu         0.000212\n",
       "presente    0.000212\n",
       "frustada    0.000212\n",
       "Length: 1617, dtype: float64"
      ]
     },
     "execution_count": 435,
     "metadata": {},
     "output_type": "execute_result"
    }
   ],
   "source": [
    "#Frequência Relativa \n",
    "tabela_editora_relativa = tabela_editora.value_counts(True)\n",
    "tabela_editora_relativa"
   ]
  },
  {
   "cell_type": "code",
   "execution_count": 436,
   "metadata": {},
   "outputs": [
    {
     "data": {
      "text/plain": [
       "4727"
      ]
     },
     "execution_count": 436,
     "metadata": {},
     "output_type": "execute_result"
    }
   ],
   "source": [
    "#Quantidade de palavras \n",
    "tabela_editora_abs.sum()"
   ]
  },
  {
   "cell_type": "markdown",
   "metadata": {},
   "source": [
    "3. Dados da Amazon\n"
   ]
  },
  {
   "cell_type": "code",
   "execution_count": 437,
   "metadata": {},
   "outputs": [
    {
     "name": "stdout",
     "output_type": "stream",
     "text": [
      "                                              Mensagem  Target\n",
      "1    Primeiramente meu pedido nem veio,Mas me reemb...  Amazon\n",
      "4    Não recebi o livro . Não sei o motivo. Foi fei...  Amazon\n",
      "7    Pelo amor de Deus!!!! que preço é este......só...  Amazon\n",
      "12   FiZ a compra errada, era pra comprar o livro e...  Amazon\n",
      "23   Não recebi o livro... Acredito que tenham envi...  Amazon\n",
      "..                                                 ...     ...\n",
      "293  O livro foi classificado como novo no site e c...  Amazon\n",
      "294  Não gostei porquê a capa veio com um rasgo, o ...  Amazon\n",
      "295  EU NEM SE QUER RECEBI O PRODUTO! Voces são mui...  Amazon\n",
      "296  Não consigo entender o alto valor desses e-boo...  Amazon\n",
      "297  a caixa veio rasgada e amassada, gostaria de u...  Amazon\n",
      "\n",
      "[90 rows x 2 columns]\n",
      "(90, 2)\n"
     ]
    }
   ],
   "source": [
    "dados_amazon = train.loc[train.Target == 'Amazon' , :]\n",
    "print(dados_amazon)\n",
    "print(dados_amazon.shape)"
   ]
  },
  {
   "cell_type": "code",
   "execution_count": 438,
   "metadata": {
    "scrolled": true
   },
   "outputs": [
    {
     "name": "stdout",
     "output_type": "stream",
     "text": [
      "0       primeiramente\n",
      "1                 meu\n",
      "2              pedido\n",
      "3                 nem\n",
      "4             veiomas\n",
      "            ...      \n",
      "4686            estão\n",
      "4687               em\n",
      "4688            otimo\n",
      "4689           estado\n",
      "4690                 \n",
      "Length: 4691, dtype: object\n"
     ]
    }
   ],
   "source": [
    "comentarios_amazon = dados_amazon.Mensagem\n",
    "texto_amazon = ''\n",
    "for texto in comentarios_amazon:\n",
    "    texto_amazon += texto \n",
    "    texto_amazon += ' '\n",
    "texto_amazon = cleanup(texto_amazon)\n",
    "texto_amazon = texto_amazon.lower()\n",
    "texto_amazon = texto_amazon.split(' ')\n",
    "tabela_amazon = pd.Series(texto_amazon)\n",
    "print(tabela_amazon)"
   ]
  },
  {
   "cell_type": "markdown",
   "metadata": {},
   "source": [
    "Frequências referentes à Amazon: "
   ]
  },
  {
   "cell_type": "code",
   "execution_count": 439,
   "metadata": {},
   "outputs": [],
   "source": [
    "#Frequência absoluta \n",
    "tabela_amazon_abs = tabela_amazon.value_counts()"
   ]
  },
  {
   "cell_type": "code",
   "execution_count": 440,
   "metadata": {},
   "outputs": [
    {
     "data": {
      "text/plain": [
       "o          0.037732\n",
       "a          0.033468\n",
       "e          0.030484\n",
       "que        0.027499\n",
       "de         0.022170\n",
       "             ...   \n",
       "olá        0.000213\n",
       "cópia      0.000213\n",
       "enviada    0.000213\n",
       "lamppm     0.000213\n",
       "otimo      0.000213\n",
       "Length: 1369, dtype: float64"
      ]
     },
     "execution_count": 440,
     "metadata": {},
     "output_type": "execute_result"
    }
   ],
   "source": [
    "#Frequência relativa\n",
    "tabela_amazon_relativa = tabela_amazon.value_counts(True)\n",
    "tabela_amazon_relativa"
   ]
  },
  {
   "cell_type": "code",
   "execution_count": 441,
   "metadata": {},
   "outputs": [
    {
     "data": {
      "text/plain": [
       "4691"
      ]
     },
     "execution_count": 441,
     "metadata": {},
     "output_type": "execute_result"
    }
   ],
   "source": [
    "tabela_amazon_abs.sum()"
   ]
  },
  {
   "cell_type": "markdown",
   "metadata": {},
   "source": [
    "___\n",
    "### Construindo o Classificador a partir dos testes\n",
    "\n",
    "Agora você deve testar o seu classificador com a base de Testes."
   ]
  },
  {
   "cell_type": "code",
   "execution_count": 442,
   "metadata": {},
   "outputs": [],
   "source": [
    "todas_palavras = texto_editora + texto_amazon + texto_comentarios_autor"
   ]
  },
  {
   "cell_type": "markdown",
   "metadata": {},
   "source": [
    "# 1 Probabilidade de Cada Rótulo dentro do texto"
   ]
  },
  {
   "cell_type": "code",
   "execution_count": 443,
   "metadata": {},
   "outputs": [
    {
     "data": {
      "text/plain": [
       "0.41506738711881247"
      ]
     },
     "execution_count": 443,
     "metadata": {},
     "output_type": "execute_result"
    }
   ],
   "source": [
    "P_Autor = sum(tabela_autor_abs) / len(todas_palavras)\n",
    "P_Autor"
   ]
  },
  {
   "cell_type": "code",
   "execution_count": 444,
   "metadata": {},
   "outputs": [
    {
     "data": {
      "text/plain": [
       "0.291348363455686"
      ]
     },
     "execution_count": 444,
     "metadata": {},
     "output_type": "execute_result"
    }
   ],
   "source": [
    "P_Amazon = sum(tabela_amazon_abs) / len(todas_palavras)\n",
    "P_Amazon"
   ]
  },
  {
   "cell_type": "code",
   "execution_count": 445,
   "metadata": {},
   "outputs": [
    {
     "data": {
      "text/plain": [
       "0.29358424942550154"
      ]
     },
     "execution_count": 445,
     "metadata": {},
     "output_type": "execute_result"
    }
   ],
   "source": [
    "P_Editora = sum(tabela_editora_abs) / len(todas_palavras)\n",
    "P_Editora"
   ]
  },
  {
   "cell_type": "markdown",
   "metadata": {},
   "source": [
    "# 2. Probabilidade de aparecer em cada frase"
   ]
  },
  {
   "cell_type": "code",
   "execution_count": 446,
   "metadata": {},
   "outputs": [],
   "source": [
    "P_frase_dado_autor = 1\n",
    "P_frase_dado_editora = 1\n",
    "P_frase_dado_amazon = 1\n",
    "lista_teste = []\n",
    "i = 0\n",
    "lista_probs = []"
   ]
  },
  {
   "cell_type": "code",
   "execution_count": 447,
   "metadata": {},
   "outputs": [
    {
     "data": {
      "text/plain": [
       "['Editora',\n",
       " 'Autor',\n",
       " 'Editora',\n",
       " 'Editora',\n",
       " 'Editora',\n",
       " 'Editora',\n",
       " 'Editora',\n",
       " 'Amazon',\n",
       " 'Amazon',\n",
       " 'Autor',\n",
       " 'Editora',\n",
       " 'Autor',\n",
       " 'Amazon',\n",
       " 'Autor',\n",
       " 'Autor',\n",
       " 'Autor',\n",
       " 'Editora',\n",
       " 'Editora',\n",
       " 'Autor',\n",
       " 'Editora',\n",
       " 'Editora',\n",
       " 'Editora',\n",
       " 'Autor',\n",
       " 'Autor',\n",
       " 'Editora',\n",
       " 'Amazon',\n",
       " 'Editora',\n",
       " 'Amazon',\n",
       " 'Editora',\n",
       " 'Editora',\n",
       " 'Autor',\n",
       " 'Editora',\n",
       " 'Autor',\n",
       " 'Autor',\n",
       " 'Editora',\n",
       " 'Autor',\n",
       " 'Editora',\n",
       " 'Autor',\n",
       " 'Editora',\n",
       " 'Editora',\n",
       " 'Autor',\n",
       " 'Autor',\n",
       " 'Amazon',\n",
       " 'Editora',\n",
       " 'Autor',\n",
       " 'Autor',\n",
       " 'Amazon',\n",
       " 'Autor',\n",
       " 'Autor',\n",
       " 'Amazon',\n",
       " 'Amazon',\n",
       " 'Autor',\n",
       " 'Editora',\n",
       " 'Autor',\n",
       " 'Editora',\n",
       " 'Editora',\n",
       " 'Autor',\n",
       " 'Autor',\n",
       " 'Amazon',\n",
       " 'Autor',\n",
       " 'Amazon',\n",
       " 'Amazon',\n",
       " 'Editora',\n",
       " 'Autor',\n",
       " 'Amazon',\n",
       " 'Autor',\n",
       " 'Amazon',\n",
       " 'Autor',\n",
       " 'Amazon',\n",
       " 'Autor',\n",
       " 'Editora',\n",
       " 'Amazon',\n",
       " 'Amazon',\n",
       " 'Editora',\n",
       " 'Amazon',\n",
       " 'Amazon',\n",
       " 'Amazon',\n",
       " 'Autor',\n",
       " 'Editora',\n",
       " 'Editora',\n",
       " 'Amazon',\n",
       " 'Autor',\n",
       " 'Amazon',\n",
       " 'Editora',\n",
       " 'Autor',\n",
       " 'Autor',\n",
       " 'Amazon',\n",
       " 'Autor',\n",
       " 'Editora',\n",
       " 'Editora',\n",
       " 'Autor',\n",
       " 'Amazon',\n",
       " 'Amazon',\n",
       " 'Amazon',\n",
       " 'Editora',\n",
       " 'Editora',\n",
       " 'Autor',\n",
       " 'Editora',\n",
       " 'Autor',\n",
       " 'Amazon',\n",
       " 'Autor',\n",
       " 'Editora',\n",
       " 'Editora',\n",
       " 'Autor',\n",
       " 'Editora',\n",
       " 'Amazon',\n",
       " 'Autor',\n",
       " 'Autor',\n",
       " 'Editora',\n",
       " 'Amazon',\n",
       " 'Amazon',\n",
       " 'Editora',\n",
       " 'Autor',\n",
       " 'Autor',\n",
       " 'Amazon',\n",
       " 'Amazon',\n",
       " 'Editora',\n",
       " 'Editora',\n",
       " 'Amazon',\n",
       " 'Amazon',\n",
       " 'Autor',\n",
       " 'Editora',\n",
       " 'Editora',\n",
       " 'Amazon',\n",
       " 'Autor',\n",
       " 'Autor',\n",
       " 'Amazon',\n",
       " 'Autor',\n",
       " 'Amazon',\n",
       " 'Amazon',\n",
       " 'Autor',\n",
       " 'Amazon',\n",
       " 'Editora',\n",
       " 'Editora',\n",
       " 'Editora',\n",
       " 'Amazon',\n",
       " 'Autor',\n",
       " 'Editora',\n",
       " 'Editora',\n",
       " 'Editora',\n",
       " 'Amazon',\n",
       " 'Autor',\n",
       " 'Editora',\n",
       " 'Editora',\n",
       " 'Amazon',\n",
       " 'Autor',\n",
       " 'Editora',\n",
       " 'Amazon',\n",
       " 'Editora',\n",
       " 'Amazon',\n",
       " 'Amazon',\n",
       " 'Editora',\n",
       " 'Editora',\n",
       " 'Amazon',\n",
       " 'Autor',\n",
       " 'Editora',\n",
       " 'Amazon',\n",
       " 'Autor',\n",
       " 'Editora',\n",
       " 'Autor',\n",
       " 'Autor',\n",
       " 'Autor',\n",
       " 'Editora',\n",
       " 'Autor',\n",
       " 'Autor',\n",
       " 'Autor',\n",
       " 'Autor',\n",
       " 'Amazon',\n",
       " 'Autor',\n",
       " 'Editora',\n",
       " 'Autor',\n",
       " 'Amazon',\n",
       " 'Editora',\n",
       " 'Autor',\n",
       " 'Amazon',\n",
       " 'Amazon',\n",
       " 'Autor',\n",
       " 'Editora',\n",
       " 'Editora',\n",
       " 'Editora',\n",
       " 'Editora',\n",
       " 'Autor',\n",
       " 'Amazon',\n",
       " 'Autor',\n",
       " 'Editora',\n",
       " 'Amazon',\n",
       " 'Autor',\n",
       " 'Autor',\n",
       " 'Autor',\n",
       " 'Editora',\n",
       " 'Autor',\n",
       " 'Editora',\n",
       " 'Autor',\n",
       " 'Autor',\n",
       " 'Editora',\n",
       " 'Autor',\n",
       " 'Editora',\n",
       " 'Autor',\n",
       " 'Editora',\n",
       " 'Editora',\n",
       " 'Autor',\n",
       " 'Autor',\n",
       " 'Editora',\n",
       " 'Editora',\n",
       " 'Autor',\n",
       " 'Amazon',\n",
       " 'Editora',\n",
       " 'Editora',\n",
       " 'Editora',\n",
       " 'Autor',\n",
       " 'Autor']"
      ]
     },
     "execution_count": 447,
     "metadata": {},
     "output_type": "execute_result"
    }
   ],
   "source": [
    "for frase in test.Mensagem:\n",
    "    frase = cleanup(str(frase))\n",
    "    frase = frase.lower()\n",
    "    frase = frase.split()\n",
    "    \n",
    "    for palavras in frase:\n",
    "        \n",
    "        if palavras in texto_comentarios_autor: \n",
    "            P_frase_dado_autor *= tabela_autor_relativa[palavras] + (1/len(tabela_autor))\n",
    "        else: \n",
    "            P_frase_dado_autor *= (1/len(tabela_autor))\n",
    "            \n",
    "        \n",
    "        if palavras in texto_amazon: \n",
    "            P_frase_dado_amazon *= tabela_amazon_relativa[palavras] + (1/len(tabela_amazon))\n",
    "        else: \n",
    "            P_frase_dado_amazon *= (1/len(tabela_amazon))\n",
    "        \n",
    "                \n",
    "        if palavras in texto_editora: \n",
    "            P_frase_dado_editora *= tabela_editora_relativa[palavras] + (1/len(tabela_editora))\n",
    "        else: \n",
    "            P_frase_dado_editora *= (1/len(tabela_editora))\n",
    "            \n",
    "        \n",
    "            \n",
    "    P_autor_dado_frase = P_frase_dado_autor * P_Autor\n",
    "    lista_probs.append( P_autor_dado_frase)\n",
    "    \n",
    "    P_editora_dado_frase = P_frase_dado_editora * P_Editora\n",
    "    lista_probs.append( P_editora_dado_frase)\n",
    "    \n",
    "    P_amazon_dado_frase =  P_frase_dado_amazon * P_Amazon\n",
    "    lista_probs.append( P_amazon_dado_frase)\n",
    "    \n",
    "    if max(lista_probs) == lista_probs[0]:\n",
    "        lista_teste.append('Autor')\n",
    "    elif max(lista_probs) == lista_probs[1]:\n",
    "        lista_teste.append('Editora')\n",
    "    elif max(lista_probs) == lista_probs[2]:\n",
    "        lista_teste.append('Amazon')\n",
    "        \n",
    "    P_frase_dado_editora = 1\n",
    "    P_frase_dado_amazon = 1\n",
    "    P_frase_dado_autor = 1\n",
    "    \n",
    "    P_autor_dado_frase = 1\n",
    "    \n",
    "    P_editora_dado_frase = 1\n",
    "    \n",
    "    P_amazon_dado_frase =  1\n",
    "    lista_probs = []\n",
    "    \n",
    "    i += 1\n",
    "    \n",
    "lista_teste"
   ]
  },
  {
   "cell_type": "code",
   "execution_count": null,
   "metadata": {},
   "outputs": [],
   "source": []
  },
  {
   "cell_type": "markdown",
   "metadata": {},
   "source": [
    "## 4. Agora, Vamos Verificar a Performance do Treino"
   ]
  },
  {
   "cell_type": "markdown",
   "metadata": {},
   "source": [
    "# Verificando os verdadeiros positivos"
   ]
  },
  {
   "cell_type": "code",
   "execution_count": 448,
   "metadata": {},
   "outputs": [
    {
     "data": {
      "text/html": [
       "<div>\n",
       "<style scoped>\n",
       "    .dataframe tbody tr th:only-of-type {\n",
       "        vertical-align: middle;\n",
       "    }\n",
       "\n",
       "    .dataframe tbody tr th {\n",
       "        vertical-align: top;\n",
       "    }\n",
       "\n",
       "    .dataframe thead th {\n",
       "        text-align: right;\n",
       "    }\n",
       "</style>\n",
       "<table border=\"1\" class=\"dataframe\">\n",
       "  <thead>\n",
       "    <tr style=\"text-align: right;\">\n",
       "      <th>Bot</th>\n",
       "      <th>Amazon</th>\n",
       "      <th>Autor</th>\n",
       "      <th>Editora</th>\n",
       "    </tr>\n",
       "    <tr>\n",
       "      <th>Target</th>\n",
       "      <th></th>\n",
       "      <th></th>\n",
       "      <th></th>\n",
       "    </tr>\n",
       "  </thead>\n",
       "  <tbody>\n",
       "    <tr>\n",
       "      <th>Amazon</th>\n",
       "      <td>14.692</td>\n",
       "      <td>0.000</td>\n",
       "      <td>0.948</td>\n",
       "    </tr>\n",
       "    <tr>\n",
       "      <th>Autor</th>\n",
       "      <td>3.791</td>\n",
       "      <td>25.118</td>\n",
       "      <td>19.431</td>\n",
       "    </tr>\n",
       "    <tr>\n",
       "      <th>Editora</th>\n",
       "      <td>7.109</td>\n",
       "      <td>12.322</td>\n",
       "      <td>16.588</td>\n",
       "    </tr>\n",
       "  </tbody>\n",
       "</table>\n",
       "</div>"
      ],
      "text/plain": [
       "Bot      Amazon   Autor  Editora\n",
       "Target                          \n",
       "Amazon   14.692   0.000    0.948\n",
       "Autor     3.791  25.118   19.431\n",
       "Editora   7.109  12.322   16.588"
      ]
     },
     "execution_count": 448,
     "metadata": {},
     "output_type": "execute_result"
    }
   ],
   "source": [
    "test['Bot'] = lista_teste\n",
    "tabela_verificação = (pd.crosstab(test.Target , test.Bot , normalize = True) * 100).round(3)\n",
    "tabela_verificação"
   ]
  },
  {
   "cell_type": "markdown",
   "metadata": {},
   "source": [
    "# Verificando Acertos no Rótulo Autor \n"
   ]
  },
  {
   "cell_type": "code",
   "execution_count": null,
   "metadata": {},
   "outputs": [],
   "source": [
    "\n"
   ]
  },
  {
   "cell_type": "markdown",
   "metadata": {},
   "source": [
    "# Verificando Acertos no Rótulo Editora"
   ]
  },
  {
   "cell_type": "code",
   "execution_count": null,
   "metadata": {},
   "outputs": [],
   "source": []
  },
  {
   "cell_type": "markdown",
   "metadata": {},
   "source": [
    "## Verificando Acertos no Rótulo Amazon"
   ]
  },
  {
   "cell_type": "code",
   "execution_count": null,
   "metadata": {},
   "outputs": [],
   "source": []
  },
  {
   "cell_type": "markdown",
   "metadata": {},
   "source": [
    "## Acurácia "
   ]
  },
  {
   "cell_type": "code",
   "execution_count": null,
   "metadata": {},
   "outputs": [],
   "source": []
  },
  {
   "cell_type": "markdown",
   "metadata": {},
   "source": [
    "## 5. Agora, Vamos calcular os desvios"
   ]
  },
  {
   "cell_type": "code",
   "execution_count": null,
   "metadata": {},
   "outputs": [],
   "source": []
  },
  {
   "cell_type": "markdown",
   "metadata": {},
   "source": [
    "___\n",
    "### Concluindo"
   ]
  },
  {
   "cell_type": "code",
   "execution_count": null,
   "metadata": {},
   "outputs": [],
   "source": []
  },
  {
   "cell_type": "code",
   "execution_count": null,
   "metadata": {},
   "outputs": [],
   "source": []
  },
  {
   "cell_type": "code",
   "execution_count": null,
   "metadata": {},
   "outputs": [],
   "source": []
  },
  {
   "cell_type": "markdown",
   "metadata": {},
   "source": [
    "___\n",
    "### Qualidade do Classificador a partir de novas separações dos tweets entre Treinamento e Teste\n",
    "\n",
    "Caso for fazer esse item do Projeto"
   ]
  },
  {
   "cell_type": "code",
   "execution_count": null,
   "metadata": {},
   "outputs": [],
   "source": []
  },
  {
   "cell_type": "code",
   "execution_count": null,
   "metadata": {},
   "outputs": [],
   "source": []
  },
  {
   "cell_type": "code",
   "execution_count": null,
   "metadata": {},
   "outputs": [],
   "source": []
  },
  {
   "cell_type": "markdown",
   "metadata": {},
   "source": [
    "___\n",
    "## Aperfeiçoamento:\n",
    "\n",
    "Trabalhos que conseguirem pelo menos conceito B vão evoluir em conceito dependendo da quantidade de itens avançados:\n",
    "\n",
    "* IMPLEMENTOU outras limpezas e transformações que não afetem a qualidade da informação contida nos tweets. Ex: stemming, lemmatization, stopwords\n",
    "* CONSIDEROU mais de duas categorias na variável Target e INCREMENTOU a quantidade de notícias, mantendo pelo menos 250 notícias por categoria (OBRIGATÓRIO PARA TRIOS, sem contar como item avançado)\n",
    "* Para Target com duas categorias: CRIOU pelo menos quatro categorias intermediárias de relevância baseadas na probabilidade: ex.: muito relevante, relevante, neutro, irrelevante, muito irrelevante\n",
    "* EXPLICOU porquê não pode usar o próprio classificador para gerar mais amostras de treinamento\n",
    "* PROPÔS diferentes cenários para Naïve Bayes fora do contexto do projeto (pelo menos dois cenários, exceto aqueles já apresentados em sala pelos professores: por exemplo, filtro de spam)\n",
    "* SUGERIU e EXPLICOU melhorias reais com indicações concretas de como implementar (indicar como fazer e indicar material de pesquisa)\n",
    "* FEZ o item Qualidade do Classificador a partir de novas separações das Notícias entre Treinamento e Teste descrito no enunciado do projeto (OBRIGATÓRIO para conceitos A ou A+)"
   ]
  },
  {
   "cell_type": "markdown",
   "metadata": {},
   "source": [
    "## Primeira Limpeza: steamming"
   ]
  },
  {
   "cell_type": "code",
   "execution_count": 449,
   "metadata": {},
   "outputs": [
    {
     "name": "stdout",
     "output_type": "stream",
     "text": [
      "['primeirament', 'meu', 'pedido', 'nem', 'veioma', 'me', 'reembolsaram', 'não', 'recebi', 'o', 'livro', '', 'não', 'sei', 'o', 'motivo', 'foi', 'feito', 'tudo', 'como', 'orientado', 'estou', 'com', 'muito', 'receio', 'de', 'realizar', 'nova', 'compra', 'pelo', 'amor', 'de', 'deu', 'que', 'preço', 'é', 'estesó', 'mesmo', 'no', 'brasil', 'e', 'é', 'porqu', 'livro', 'ainda', 'é', 'imun', 'de', 'imposto', 'fiz', 'a', 'compra', 'errada', 'era', 'pra', 'comprar', 'o', 'livro', 'e', 'acabei', 'comprando', 'ess', 'kindl', 'quero', 'cancelar', 'a', 'compra', 'do', 'kindl', 'o', 'segredo', 'da', 'ment', 'milionária', 'obrigada', 'karla', 'não', 'recebi', 'o', 'livro', 'acredito', 'que', 'tenham', 'enviado', 'no', 'endereço', 'errado', 'gostaria', 'que', 'o', 'mesmo', 'foss', 'encaminhado', 'para', 'o', 'meu', 'kindl', 'aguardo', 'breve', 'retorno', 'não', '', 'é', 'possível', 'vi', 'nárnia', 'agora', 'e', 'a', 'amazon', '', 'esta', 'cobrando', 'quas', 'r7000', 'senhor', 'do', 'anéi', 'a', 'quas', 'r10000', 'nada', 'pode', 'justificar', 'est', 'valor', 'as', 'obra', 'são', 'sem', 'dúvida', 'incrívei', '', 'ma', 'os', 'preço', 'ço', 'são', 'uma', 'afronta', 'fiquei', 'satisfeita', 'com', 'a', 'velocidad', 'da', 'entrega', 'e', 'o', 'valor', 'do', 'frete', 'porém', 'eu', 'comprei', 'ess', 'produto', 'como', 'present', 'de', 'aniversário', 'paguei', 'pelo', 'cartão', 'de', 'present', 'e', 'embrulho', 'e', 'ele', 'vei', 'embalado', 'de', 'maneira', 'normal', 'a', 'caixa', 'do', 'box', 'chegou', 'danificada', 'e', 'rasgada', 'na', 'laterai', 'assim', 'como', 'o', 'primeiro', 'volum', 'estava', 'com', 'uma', 'orelha', 'gigant', 'na', 'contracapa', 'como', 'se', 'houvess', 'sido', 'dobrada', 'de', 'maneira', 'proposit', 'havia', 'cola', 'na', 'lombada', 'do', 'volum', '3', 'e', 'o', 'volum', '5', 'estava', 'com', 'as', 'laterai', 'da', 'capa', 'amaçada', 'ou', 'seja', 'os', 'produto', 'chegaram', 'seriament', 'danificado', 'estou', 'muito', 'desapontada', 'com', 'isso', 'com', 'a', 'falta', 'de', 'respeito', 'com', 'o', 'client', 'se', 'você', 'paga', 'por', 'um', 'produto', 'e', 'serviço', 'deseja', 'que', 'ele', 'chega', 'em', 'excelent', 'condiçõ', 'a', 'sua', 'mão', 'eu', 'iria', 'fazer', 'a', 'devolução', 'ma', 'a', 'pessoa', 'a', 'quem', 'eu', 'presenteei', 'muito', 'tranquilament', 'aceito', 'o', 'produto', 'danificado', 'a', 'capa', 'e', 'as', 'página', 'próxima', 'a', 'orelha', 'vieram', 'danificada', 'e', 'essa', 'não', 'é', 'a', 'primeira', 'vez', 'que', 'vem', 'assim', 'baixei', 'a', 'amostra', 'e', 'não', 'consigo', 'comprar', 'a', 'versão', 'completa', 'porqu', 'está', 'indisponível', 'entrei', 'em', 'contato', 'com', 'editora', 'e', 'fui', 'informada', 'que', 'o', 'problema', 'está', 'na', 'página', 'da', 'loja', 'amazon', 'e', 'que', 'seria', 'normalizado', 'até', 'o', 'present', 'momento', 'não', 'houv', 'mudança', 'já', 'tem', 'doi', 'mese', 'que', 'estou', 'aguardando', 'e', 'aí', 'amazon', 'quando', 'será', 'normalizado', 'meu', 'box', 'veio', 'rasgado', 'entrei', 'num', 'endereço', 'sobr', 'o', 'ganho', 'de', 'um', 'livro', 'em', 'kindl', 'no', 'dia', '30/3', 'escolho', 'o', 'livro', 'e', 'imediatament', 'ao', 'fazer', 'meu', 'login', 'o', 'valor', 'eh', 'debitado', 'do', 'meu', 'cartão', 'um', 'absurdo', 'não', 'queria', 'comprar', 'o', 'livro', 'solicito', 'uma', 'devolução', 'imediata', 'do', 'valor', 'na', 'verdad', 'eu', 'queria', 'o', 'livro', 'e', 'não', 'as', 'carta', 'e', 'o', 'livreto', 'como', 'foi', 'um', 'present', 'que', 'dei', 'não', 'posso', 'comentar', 'o', 'produto', 'tá', 'valendo', 'obrigado', 'grand', 'abraço', 'e', 'obrigado', 'abraço', 'amigo', 'é', 'irmão', 'do', 'meu', 'ipad', 'início', 'da', 'manhã', 'no', 'dia', 'do', 'meu', 'financiamento', 'de', 'um', 'orçamento', 'para', 'os', 'gigant', 'o', 'ebook', 'esta', 'bem', 'mai', 'caro', 'que', 'o', 'livro', 'físico', 'muito', 'sem', 'noção', 'não', 'vou', 'comprar', 'não', 'esperar', 'até', 'chegar', 'no', 'r20', 'e', 'olh', 'lá', 'o', 'livro', 'parec', 'ser', 'bom', 'o', 'serviço', 'a', 'amazon', 'é', 'péssimo', '', 'minha', 'filha', 'pediu', 'o', 'livro', '1', 'h', 'apó', 'a', 'compra', 'queria', 'trocar', 'ou', 'desistir', 'não', 'foi', 'possível', 'até', 'receb', 'e', 'devolv', 'com', 'o', 'frete', 'por', 'minha', 'conta', 'e', 'ai', 'que', 'não', 'compensa', 'um', 'golp', '', 'pessimo', 'serviço', 'nunca', 'mai', 'compro', 'ness', 'site', 'golpista', 'me', 'sentir', 'enganado', 'ao', 'ler', 'o', 'livro', 'paguei', 'para', 'ler', 'propaganda', 'de', 'um', 'método', 'que', 'está', 'a', 'venda', 'recomendo', 'que', 'retirem', 'o', 'livro', 'do', 'site', 'é', 'uma', 'vergonha', 'ter', 'um', 'livro', 'dess', 'a', 'disposição', 'para', 'venda', 'o', 'livro', 'é', 'ótimo', 'oqu', 'estou', 'indignado', 'é', 'que', 'paguei', '4941', 'no', 'kindler', 'e', 'o', 'livro', 'normal', 'na', 'saraivaamericana', 'e', 'submarino', 'custa', '3990', 'assim', 'é', 'desanimador', 'comprar', '', '', 'grato', 'o', 'preço', 'poderia', 'ser', 'menor', 'no', 'dia', 'em', 'que', 'abaixarem', 'para', 'meno', 'de', '1990', 'eu', 'compro', 'sem', 'pensar', 'dua', 'veze', 'ma', 'por', 'enquanto', 'vou', 'ter', 'que', 'pausar', 'minha', 'leitura', 'na', 'série', 'poi', 'não', 'tem', 'condiçõ', 'de', 'um', 'ebook', 'ter', 'ess', 'preço', 'é', 'quas', 'o', 'mesmo', 'preço', 'da', 'versão', 'física', 'o', 'box', 'premium', 'é', 'lindo', 'porém', 'a', 'caixa', 'veio', 'rasgada', 'fiquei', 'com', 'desgosto', 'e', 'quero', 'trocar', 'apena', 'ess', 'box', 'os', 'outro', 'livro', 'vieram', 'de', 'forma', 'adequada', 'realment', 'trist', 'um', 'sucesso', 'dess', 'ser', 'vendido', 'numa', 'versão', 'digit', 'que', 'teve', 'custo', 'mínimo', 'de', 'produção', 'e', 'tem', 'custo', '0', 'de', 'venda', 'num', 'preço', '2x', 'maior', 'que', 'o', 'produto', 'físico', 'que', 'teve', 'custo', 'de', 'produção', 'e', 'distribuição', 'infinitament', 'maior', 'do', 'que', 'o', 'digit', 'simplesment', 'lamentável', 'amazon', 'perdeu', 'todo', 'o', 'respeito', 'que', 'eu', 'tinha', 'pela', 'empresa', 'fiz', 'a', 'compra', 'e', 'a', 'encomenda', 'chegou', 'bem', 'rápido', 'entretanto', 'ao', 'abrir', 'o', 'pacot', 'uma', 'surpresa', 'veio', 'apena', '1', 'livro', 'e', 'a', 'compra', 'foi', 'de', '2', 'exemplar', 'inclus', 'a', 'nota', 'fiscal', 'diz', 'que', 'são', 'dua', 'unidad', 'e', 'o', 'valor', 'cobrado', 'é', 'por', 'doi', 'livro', 'costumo', 'comprar', 'da', 'amazon', 'e', 'sempr', 'fui', 'muito', 'bem', 'atendida', 'espero', 'que', 'o', 'mau', 'atendido', 'se', 'resolva', 'rapidament', 'acho', 'um', 'absurdo', 'o', 'preço', 'que', 'a', 'amazon', 'coloca', 'em', 'um', 'título', 'como', 'est', 'em', 'outro', 'estabelecimento', 'é', 'possível', 'comprar', 'uma', 'caixa', 'promocion', 'com', 'os', '5', 'livro', 'físico', 'e', 'ainda', 'vem', 'mai', 'um', 'de', 'brind', 'por', 'r12000', 'se', 'eu', 'comprar', 'aqui', 'gastaria', 'quas', 'r14000', 'pela', 'mídia', 'digit', 'isto', 'é', 'um', 'absurdo', 'a', 'amazon', 'tem', 'que', 'rever', 'ess', 'preço', 'já', 'que', 'beiram', 'ao', 'ridículo', '<a', 'class=alinknorm', 'datahook=productlinklink', 'href=/caixaharrypotterediçãopremiumexclusivaamazon/dp/8532505708>caixa', 'harri', 'potter', '', 'edição', 'premium', 'exclusiva', 'amazon</a>', 'cuidado', 'com', 'o', 'anúncio', 'o', 'box', 'não', 'é', 'premium', 'o', 'meu', 'box', 'apesar', 'de', 'vir', 'todo', 'emplastificado', 'ele', 'chegou', 'com', 'um', 'pouco', 'de', 'poeira', 'dentro', 'do', 'plástico', 'e', 'alguma', 'capa', 'estavam', 'ralada', 'com', 'leve', 'ranhura', 'muito', 'estranho', 'parec', 'que', 'ant', 'de', 'colocar', 'no', 'box', 'na', 'hora', 'da', 'fabricação', 'os', 'livro', 'sofreram', 'um', 'pouco', 'e', 'foram', 'maltratado', 'e', 'embalado', 'de', 'qualquer', 'jeito', 'eu', 'comprei', 'numa', 'promoção', 'por', '140', 'e', 'não', 'recomendo', 'comprar', 'se', 'estiv', 'mai', 'caro', 'que', 'isso', 'poi', 'o', 'papel', 'é', 'muito', 'fino', 'e', 'transparent', 'dá', 'medo', 'de', 'manusear', 'e', 'rasgar', 'alguma', 'capa', 'aparentam', 'estar', 'mal', 'colada', 'apena', '3', 'página', 'separam', 'a', 'capa', 'da', 'história', 'em', 'si', 'e', 'nada', 'separa', 'a', 'última', 'folha', 'de', 'história', 'da', 'capa', 'de', 'trá', 'então', 'não', 'esper', 'conteúdo', 'extra', 'sumário', 'e', 'etc', 'poi', 'o', 'livro', 'é', 'soment', 'a', 'história', 'e', 'acab', 'eu', 'esperava', 'ser', 'um', 'pouco', 'mai', 'fiel', 'a', 'versão', 'britânica', 'ma', 'de', 'igual', 'só', 'tem', 'mesmo', 'a', 'capa', 'o', 'resto', 'é', 'só', 'mai', 'uma', 'impressão', 'qualquer', 'sem', 'fazer', 'o', 'devido', 'materi', 'premium', 'fiquei', 'decepcionado', 'porqu', 'criei', 'muita', 'expectativa', 'e', 'no', 'final', 'a', 'qualidad', 'é', 'bem', 'baixa', 'mesmo', 'o', 'único', 'ponto', 'positivo', 'é', 'só', 'as', 'capa', 'que', 'são', 'linda', 'ma', 'por', 'dentro', 'é', 'bem', 'pobrezinho', 'boa', 'sort', 'a', 'todo', 'pegadinha', 'do', 'amazonnão', 'era', 'possível', 'baixar', 'o', 'livro', 'era', 'só', 'pra', 'entrar', 'no', 'sitemarket', 'negativo', 'mai', 'um', 'ponto', 'pra', 'você', 'realment', 'uma', 'decepção', 'indignada', 'com', 'o', 'site', 'de', 'não', 'especificar', 'o', 'produto', 'custa', 'colocar', 'na', 'descrição', 'que', 'é', 'pocket', 'ou', 'versão', 'econômica', 'além', 'da', 'caixa', 'vir', 'toda', 'riscada', 'e', 'amassada', 'os', 'livro', 'com', 'a', 'capa', 'descascando', 'e', 'todo', 'sujo', 'com', 'algo', 'que', 'parec', 'cola', 'as', 'folha', 'amassada', 'rasgada', 'e', 'com', 'as', 'palavra', 'comida', 'sincerament', 'nunca', 'achei', 'que', 'foss', 'passar', 'por', 'uma', 'coisa', 'dessa', 'um', 'site', 'tão', 'bem', 'falado', 'comet', 'um', 'erro', 'dess', 'nunca', 'mai', 'compro', 'na', 'amazon', 'e', 'ainda', 'vou', 'abrir', 'um', 'processo', 'nada', 'mai', 'justo', 'conform', 'outro', 'comprador', 'abaixo', 'optei', 'por', 'ess', 'livro', 'na', 'promoção', 'amamossp', 'por', 'essa', 'promoção', 'ess', 'livro', 'sairia', 'de', 'graça', 'qual', 'não', 'é', 'a', 'surpresa', 'que', 'estão', 'me', 'cobrando', 'equivocadament', 'o', 'livro', 'digit', 'por', 'r', '2100', 'sincerament', 'também', 'estou', 'tentando', 'entend', 'como', 'podem', 'colocar', 'um', 'livro', 'digit', 'por', 'um', 'preço', 'absurdo', 'dest', 'comprei', 'um', 'kindl', 'recentement', 'e', 'adoraria', 'ter', 'esta', 'obra', 'nele', 'ma', 'por', 'um', 'preço', 'abusivo', 'dest', 'não', 'compro', 'nem', 'aqui', 'nem', 'na', 'china', 'e', 'só', 'dei', 'uma', 'estrela', 'porqu', 'não', 'é', 'possível', 'dar', '0', 'o', 'livro', 'é', 'ótimo', 'ma', 'quando', 'vi', 'que', 'o', 'livro', 'físico', 'na', 'própria', 'amazon', 'é', 'mai', 'barato', 'que', 'o', 'ebook', 'me', 'senti', 'enganado', 'o', 'texto', 'do', 'livro', 'no', 'celular', 'é', 'exibido', 'em', 'dua', 'coluna', 'dificultando', 'a', 'leitura', 'entrei', 'em', 'contato', 'procurando', 'solução', 'e', 'não', 'obtiv', 'estou', 'abismada', 'que', 'existem', 'já', 'avaliaçõ', 'negativa', 'a', 'mai', 'de', 'um', 'ano', 'em', 'relação', 'ao', 'preço', 'dest', 'ebook', 'e', 'mai', 'abismada', 'ainda', 'dele', 'não', 'ter', 'baixado', 'o', 'preço', 'adquiri', 'recentement', 'o', 'meu', 'kindl', 'e', 'estou', 'muito', 'feliz', 'com', 'ele', 'e', 'fiquei', 'entusiasmada', 'de', 'adquirir', 'o', 'senhor', 'do', 'anéi', 'no', 'formato', 'ebook', 'ma', 'quando', 'me', 'deparei', 'com', 'est', 'preço', 'desisti', 'na', 'hora', 'apena', 'queria', 'saber', 'que', 'lógica', 'há', 'em', 'vender', 'est', 'livro', 'no', 'formato', 'digit', 'nest', 'preço', 'estratosférico', 'bom', 'será', 'que', 'alguém', 'esta', 'pagando', 'por', 'isto', 'francament', 'comprei', 'a', 'versão', 'kindl', 'e', 'depoi', 'me', 'confundi', 'e', 'comprei', 'novament', 'a', 'mesma', 'versão', 'do', 'livro', 'em', 'formato', 'kindl', 'poi', 'a', 'amazon', 'fatur', 'os', 'doi', 'pedido', 'feito', 'no', 'mesmo', 'dia', 'e', 'permit', 'compra', 'kindl', 'duplicada', 'isto', 'não', 'pode', 'continuar', 'principalment', 'se', 'tratando', 'de', 'conteúdo', 'digit', '', 'infelizment', 'a', 'caixa', 'veio', 'rasgada', 'a', 'amazon', 'prontament', 'trocou', 'o', 'produto', 'ma', 'veio', 'rasgada', 'novament', 'na', 'segunda', 'tentativa', 'de', 'troca', 'a', 'amazon', 'entendeu', 'bem', 'o', 'problema', 'ma', 'preferiu', 'devolv', 'o', 'valor', 'pago', 'não', 'era', 'a', 'solução', 'que', 'eu', 'gostaria', 'minha', 'intenção', 'era', 'apena', 'substituir', 'novament', 'acabei', 'ficando', 'com', 'o', 'produto', 'avariado', 'mesmo', 'entendo', 'o', 'motivo', 'da', 'opção', 'pelo', 'reembolso', 'a', 'recorrência', 'do', 'problema', 'e', 'os', 'custo', 'envolvido', 'ma', 'no', 'fim', 'não', 'era', 'a', 'melhor', 'solução', 'para', 'mim', 'comprei', 'um', 'box', 'do', 'harri', 'potter', 'era', 'para', 'ser', 'entregu', 'ontem', '', 'poi', 'recebi', 'um', 'email', 'dizendo', 'que', 'nao', 'foi', 'possivel', 'entregar', 'por', 'endereço', 'nao', 'localizado', 'e', 'era', 'para', 'eu', 'entrar', 'em', 'contato', 'com', 'a', 'empresa', '', 'como', 'eu', 'irei', 'entrar', 'em', 'contato', 'com', 'a', 'amazon', 'se', 'nem', 'telefon', 'me', 'passaram', '', 'e', 'o', 'email', 'que', 'eu', 'respondo', 'nao', 'dar', 'certo', '', 'vc', 'poderiam', 'ligar', 'para', 'nó', 'quando', 'tiverem', 'alguma', 'duvida', '', 'para', 'que', 'pedem', 'telefon', 'entao', '', 'aguardo', 'resposta', 'de', 'vc', 'meu', 'email', 'é', 'carolbran31@gmailcom', '', 'o', 'livro', 'é', 'muito', 'bom', 'ma', 'a', 'configuração', 'no', 'formato', 'kindl', 'ficou', 'péssima', 'impacta', 'muito', 'na', 'leitura', 'não', 'recomendo', 'a', 'compra', 'no', 'formato', 'kindl', 'vou', 'começar', 'uma', 'leitura', 'em', 'conjunto', 'com', 'vário', 'booktub', 'e', 'comprei', 'na', 'maior', 'expectativa', 'a', 'caixa', 'da', 'amazon', 'veio', 'extra', 'grand', 'com', 'mai', 'de', '30', 'saquinho', 'de', 'ar', 'junto', 'com', '2outro', 'livrinho', 'acompanhando', 'mesmo', 'assim', 'a', 'transportadora', 'arras', 'com', 'a', 'embalagem', 'toda', 'rasgada', 'e', 'a', 'box', 'veio', 'com', 'as', 'ponta', 'amassada', 'e', 'danific', 'meu', 'livro', 'dentro', 'trist', 'demai', 'com', 'a', 'amazon', 'já', 'deixei', 'de', 'com', 'na', 'americana', 'submarino', 'na', 'saraivapoi', 'os', 'livro', 'vinham', 'empoeirado', 'e', 'agora', 'penso', 'em', 'não', 'comprar', 'mai', 'na', 'amazon', 'poi', 'ele', 'oferecem', 'um', 'calaaboca', 'de', '20', 'do', 'produto', 'pra', 'quem', 'coleciona', 'não', 'importa', '20', 'e', 'sim', 'o', 'produto', 'intacto', 'na', 'estant', 'nota', '0', 'amazon', 'a', 'edição', 'é', 'maravilhosa', 'o', 'preço', 'bom', 'contudo', 'o', 'livro', 'veio', 'rasgado', 'no', 'canto', 'superior', 'direito', 'da', 'lombada', 'é', 'a', 'primeira', 'vez', 'que', 'isso', 'ocorrea', 'amazon', 'costuma', 'ser', 'excelenteé', 'preciso', 'dizer', 'olá', 'abaixo', 'cópia', 'da', 'mensagem', 'enviada', 'à', 'editora', 'lamppm', 'responsável', 'pelo', 'lançamento', 'do', 'sapien', 'no', 'brasil', 'e', 'referes', 'exclusivament', 'à', 'versão', 'kindl', 'estou', 'lendo', 'e', 'adorando', 'o', 'sapien', 'de', 'yuval', 'noah', 'harari', 'no', 'entanto', 'como', 'estou', 'utilizando', 'o', 'kindl', 'para', 'fazêlo', 'estou', 'sendo', 'obrigado', 'a', 'enfrentar', 'um', 'problema', 'enorm', 'a', 'divisão', 'silábica', 'aleatória', 'pela', 'primeira', 'vez', 'num', 'livro', 'em', 'portuguê', 'me', 'deparei', 'com', 'ess', 'aparent', 'defeito', 'na', 'conversão', 'do', 'livro', 'para', 'o', 'formato', 'da', 'amazon', 'falo', 'isso', 'porqu', 'não', 'é', 'o', 'primeiro', 'título', 'em', 'portuguê', 'que', 'leio', 'ness', 'formato', 'e', 'posso', 'atestar', 'que', 'isso', 'nunca', 'me', 'aconteceu', 'ant', 'fico', 'então', 'obrigado', 'a', 'conviv', 'com', 'bizarric', 'do', 'tipo', 'mulher', 'cerimônia', 'sacrifício', 'particular', 'moderno', 'desconhecido', 'e', 'muito', 'muito', 'mai', '', 'detalh', 'alterando', 'o', 'tamanho', 'da', 'font', 'não', 'resolv', 'o', 'problema', 'apena', 'o', 'desloca', 'para', 'outro', 'ponto', 'do', 'texto', 'em', 'inglê', 'isso', 'não', 'é', 'uma', 'surpresa', 'poi', 'não', 'há', 'regra', 'quanto', 'a', 'isso', 'o', 'que', 'posso', 'notar', 'porém', 'é', 'que', 'tanto', 'em', 'inglê', 'quanto', 'em', 'portuguê', 'os', 'livro', 'que', 'li', 'até', 'agora', 'no', 'kindl', 'evitavam', 'ao', 'máximo', 'a', 'separação', 'silábica', 'atravé', 'de', 'uma', 'simpl', 'edição', 'da', 'página', 'de', 'acordo', 'com', 'o', 'tamanho', 'da', 'font', 'utilizado', 'no', 'momento', 'a', 'separação', 'se', 'dá', 'apena', 'eventualment', 'infelizment', 'o', 'mesmo', 'não', 'ocorr', 'agora', 'com', 'o', 'sapien', 'a', 'divisão', 'é', 'constant', 'e', 'em', 'inúmero', 'e', 'irritant', 'caso', 'completament', 'errada', 'na', 'realidad', 'o', 'prazer', 'da', 'leitura', 'vai', 'sendo', 'minado', 'pelo', 'despraz', 'dessa', 'lamentável', 'falha', 'chegando', 'quas', 'a', 'comprometêlo', 'por', 'completo', 'pergunta', 'teria', 'havido', 'algum', 'problema', 'na', 'conversão', 'dess', 'específico', 'livro', 'para', 'a', 'versão', 'kindl', 'estaria', 'ocorrendo', 'algum', 'conflito', 'de', 'versõ', 'já', 'que', 'recentement', 'tivemo', 'um', 'updat', 'do', 'kindl', 'alguém', 'mai', 'troux', 'o', 'mesmo', 'problema', 'até', 'você', 'informo', 'que', 'estou', 'encaminhando', 'a', 'mesma', 'mensagem', 'para', 'a', 'amazon', 'caso', 'a', 'origem', 'do', 'defeito', 'aqui', 'relatado', 'seja', 'de', 'competência', 'daquela', 'empresa', 'no', 'mai', 'parabén', 'por', 'editar', 'no', 'brasil', 'um', 'livro', 'tão', 'especi', 'atenciosament', 'subscrevom', 'na', 'esperança', 'de', 'ter', 'alguma', 'solução', 'para', 'est', 'lamentável', 'contratempo', 'nelson', 'meirel', 'preço', 'extremament', 'abusivo', 'queria', 'têlo', 'origin', 'porém', 'leio', 'a', 'versão', 'gratuita', 'conseguida', 'facilment', 'em', 'site', 'que', 'disponibilizam', 'de', 'graça', 'livro', 'para', 'eread', 'comprei', 'os', 'box', 'pela', 'primeira', 'vez', 'e', 'o', 'produto', 'chegou', 'em', 'minha', 'mão', 'numa', 'caixa', 'bem', 'danificada', 'e', 'ambo', 'box', 'comprei', '2', 'estavam', 'machucado', 'fiquei', 'indignado', 'como', 'todo', 'amant', 'de', 'livro', 'entrei', 'em', 'contato', 'com', 'amazon', 'e', 'recebi', 'um', 'excelent', 'atendimento', 'solicitei', 'troca', 'mandei', 'os', 'produto', 'de', 'volta', 'e', 'recebi', 'novo', 'box', 'ontem', '05/09', 'a', 'caixa', 'veio', 'em', 'ótimo', 'estado', 'porém', 'um', 'do', 'box', 'veio', 'com', 'um', 'grand', 'amassão', 'ver', 'foto', 'e', 'até', 'com', 'livro', 'danificado', 'visto', 'que', 'dessa', 'vez', 'a', 'caixa', 'veio', 'quas', 'em', 'perfeita', 'condiçõ', 'a', 'conclusão', 'que', 'cheguei', 'é', 'que', 'o', 'produto', 'já', 'saiu', 'danificado', 'da', 'loja', 'amazon', 'gosto', 'muito', 'da', 'empresa', 'prestam', 'um', 'serviço', 'incrível', 'de', 'atendimento', 'ao', 'client', 'ma', 'dessa', 'vez', 'vacilaram', 'feio', 'não', 'irei', 'mandar', 'o', 'produto', 'novament', 'porqu', 'há', 'a', 'possibilidad', 'de', 'me', 'enviarem', 'outro', 'pior', 'o', 'que', 'pode', 'até', 'ter', 'sido', 'o', 'caso', 'dess', 'eu', 'nao', 'ia', 'comprar', 'essa', 'edição', 'pelo', 'fato', 'de', 'a', 'maioria', 'do', 'comentario', 'serem', 'negativo', 'ma', 'la', 'fui', 'eu', 'me', 'aventurar', 'e', 'comprei', 'chegou', 'agora', 'o', 'box', 'aqui', 'em', 'minha', 'casa', 'recém', 'chegou', 'com', 'página', 'rasgada', 'o', 'livro', 'em', 'sí', 'veio', 'todo', 'sujo', 'e', 'arranhado', 'principalment', 'as', 'lombada', 'ma', 'isso', 'tudo', 'bem', 'eu', 'ia', 'ficar', 'eai', 'doi', 'do', 'livro', 'com', 'pagina', 'rasgada', 'que', 'isso', 'amazon', 'vc', 'ta', 'fazendo', 'um', 'jogo', 'comigo', 'o', 'livro', '1', 'e', 'o', '4', 'estao', 'com', 'as', 'última', 'página', 'descolada', 'e', 'rasgada', 'isso', 'é', 'um', 'absurdo', 'ja', 'pedi', 'meu', 'reembolso', 'aconselho', 'a', 'vc', 'que', 'estao', 'em', 'duvida', 'de', 'nao', 'comprarem', 'olhem', 'as', 'foto', 'e', 'tirem', 'sua', 'própria', 'conclusõ', 'oh', 'amazon', 'por', 'favor', 'atualiza', 'essa', 'edição', 'está', 'sem', 'condição', 'de', 'ler', 'faltam', 'frase', 'do', 'personagen', 'diálogo', 'tem', 'pedaço', 'do', 'livro', 'que', 'não', 'da', 'nem', 'pra', 'entend', 'o', 'que', 'está', 'acontecendo', 'gostei', 'mt', 'porem', 'fiquei', 'desapontado', 'pq', 'o', 'box', 'veio', 'rasgado', 'um', 'pouco', 'na', 'part', 'se', 'baixo', 'e', 'amassado', 'q', 'chegou', 'ate', 'amassar', 'livro', 'sem', 'tirar', 'na', 'demora', 'pra', 'entrega', 'é', 'com', 'muita', 'tristeza', 'que', 'venho', 'redigir', 'essa', 'resenha', 'ma', 'infelizment', 'a', 'amazon', 'pecou', 'na', 'venda', 'dess', 'box', 'a', 'fotografia', 'do', 'box', 'aparec', 'livro', 'preto', 'com', 'acabamento', 'dourado', 'ma', 'recebi', 'livro', 'preto', 'com', 'um', 'péssimo', 'acabamento', 'prata', 'o', 'livro', 'veio', 'com', 'defeito', 'de', 'fábrica', 'com', 'cola', 'grudada', 'em', '2', 'livro', 'e', 'capa', 'descascando', 'em', '1', 'não', 'foi', 'especificada', 'em', 'momento', 'algum', 'da', 'compra', 'que', 'as', 'folha', 'eram', 'branca', 'e', 'sem', 'orelha', 'essa', 'compra', 'se', 'justifica', 'numa', 'máxima', 'popular', 'o', 'barato', 'sai', 'caro', 'é', 'uma', 'vergonha', 'não', 'se', 'ter', 'uma', 'versão', 'em', 'portuguê', 'decent', 'para', 'ler', 'no', 'kindl', 'vide', 'informação', 'de', 'problema', 'relatado', 'tanto', 'ano', 'do', 'lançamento', 'e', 'não', 'temo', 'uma', 'versão', 'confiável', 'peço', 'que', 'verifiquem', 'e', 'reparem', 'est', 'erro', 'acredito', 'que', 'eu', 'e', 'muito', 'outro', 'usuário', 'se', 'sentem', 'lesado', 'eu', 'verifiquei', 'ant', 'de', 'assinar', 'e', 'vi', 'que', 'toda', 'a', 'série', 'de', 'harri', 'potter', 'estavam', 'disponível', 'pra', 'kindk', 'unlimit', 'e', 'ao', 'dar', 'continuidad', 'à', 'leitura', 'não', 'ter', 'um', 'é', 'injusto', 'logo', 'solicito', 'o', 'reparo', 'imediato', 'do', 'livro', 'digit', 'que', 'sistema', 'horrível', 'de', 'você', 'eu', 'não', 'comprei', 'nada', 'eu', 'só', 'cliqu', 'pra', 'ver', 'melhor', 'eu', 'queria', 'ess', 'livro', 'físico', 'e', 'não', 'ebook', 'eu', 'só', 'queria', 'ver', 'cancel', 'essa', 'comprar', 'obrigada', 'stela', 'mari', 'há', 'algun', 'dia', 'atrá', 'adquiri', 'um', 'produto', 'na', 'amazon', 'box', 'sherlock', 'holm', 'da', 'editora', 'harper', 'collin', 'fiquei', 'feliz', 'poi', 'tamanha', 'era', 'a', 'acessibilidad', 'do', 'preço', 'um', 'do', 'mai', 'barato', 'se', 'comparado', 'a', 'outra', 'loja', 'entretanto', 'hoje', 'ao', 'receb', 'meu', 'box', 'me', 'deparei', 'com', 'uma', 'caixa', 'bastant', 'estreita', 'surpreendendom', 'por', 'não', 'vir', 'com', 'se', 'quer', 'uma', 'espuma', 'ou', 'plástico', 'bolha', 'afin', 'livro', 'são', 'materiai', 'bastant', 'sensívei', 'apó', 'a', 'retirada', 'da', 'caixa', 'que', 'estava', 'também', 'amassada', 'vi', 'que', 'o', 'box', 'estava', 'amassado', 'em', 'quas', 'toda', 'as', 'bordaso', 'que', 'me', 'pareceu', 'pancada', 'muito', 'fort', 'com', 'muito', 'arranhõ', 'e', 'risco', 'certo', 'que', 'a', 'transportadora', 'encarregada', 'tem', 'boa', 'part', 'da', 'culpa', 'ma', 'o', 'que', 'custa', 'colocar', 'em', 'uma', 'embalagem', 'maior', 'e', 'mai', 'aconchegant', 'para', 'o', 'produto', 'creio', 'que', 'não', 'irei', 'dar', 'entrada', 'no', 'processo', 'de', 'troca', 'poi', 'a', 'burocracia', 'e', 'a', 'demora', 'para', 'avaliar', 'e', 'reentregar', 'o', 'produto', 'não', 'valeriam', 'a', 'pena', 'minha', 'única', 'felicidad', 'é', 'que', 'os', 'livro', 'apesar', 'da', 'capa', 'ter', 'vindo', 'um', 'pouco', 'amassada', 'também', 'não', 'foram', 'comprometido', 'em', 'sua', 'part', 'mai', 'important', 'que', 'é', 'a', 'leitura', 'porém', 'o', 'produto', 'perdeu', 'todo', 'seu', 'requint', 'que', 'é', 'o', 'que', 'mai', 'chama', 'a', 'atenção', 'do', 'consumidor', 'na', 'hora', 'da', 'compra', 'esta', 'foi', 'a', 'primeira', 'vez', 'que', 'comprei', 'na', 'amazon', 'porém', 'acho', 'que', 'será', 'a', 'última', 'visto', 'que', 'o', 'custo', 'acessível', 'não', 'vale', 'apena', 'tendo', 'em', 'vista', 'o', 'descuido', 'na', 'entrega', 'do', 'mesmo', 'o', 'box', 'é', 'maravilhoso', 'e', 'chegou', 'ant', 'do', 'previsto', 'ma', 'veio', 'amassado', 'e', 'com', 'vária', 'part', 'rasgada', 'a', 'maior', 'dela', 'na', 'part', 'de', 'baixo', 'como', 'na', 'imagem', 'muito', 'trist', 'gostaria', 'de', 'poder', 'trocar', 'a', 'caixa', 'veio', 'rasgada', 'e', 'os', 'livro', 'parecem', 'usado', 'chegou', 'com', 'atraso', 'e', 'um', 'amassado', 'no', 'box', 'fora', 'uma', 'falha', 'de', 'impressão', 'na', 'capa', 'da', 'camêra', 'secreta', 'esperava', 'mai', 'cuidado', 'no', 'transport', 'e', 'uma', 'melhor', 'qualidad', 'do', 'materi', 'minha', 'experiência', 'com', 'ebook', 'foi', 'frustrant', 'no', 'kindl', 'o', 'livro', 'não', 'tem', 'cor', 'agradável', 'o', 'que', 'desestimula', 'a', 'leitura', 'parec', 'uma', 'xerox', 'primeira', 'vez', 'que', 'uso', 'esta', 'página', 'e', 'a', 'decepção', 'tá', 'sendo', 'total', 'duplicaram', 'meu', 'pedido', '😤', 'e', 'tentei', 'cancelar', 'um', 'dele', 'e', 'adivinhem', 'só', 'impossível', 'ainda', 'que', 'ele', 'afirmam', 'que', 'temo', 'a', 'possibilidad', 'de', 'remov', 'inten', 'ou', 'cancelar', 'o', 'pedido', 'inteiro', 'essa', 'opção', 'não', 'exist', 'ahhh', 'e', 'o', 'número', 'de', 'atenção', 'ao', 'client', 'oferecido', 'na', 'página', 'da', 'amazon', 'simplesment', 'não', 'exist', 'decepção', 'total', 'primeira', 'e', 'última', 'vez', 'que', 'uso', 'esta', 'página', 'pra', 'comprar', 'não', 'recomendo', 'pra', 'ninguém', 'ele', 'não', 'gastam', 'com', 'papel', 'como', 'pode', 'um', 'ebook', 'custar', 'tanto', 'se', 'tivess', 'mai', 'barato', 'todo', 'iriam', 'comprar', 'é', 'um', 'livro', 'incrivel', 'ma', 'não', 'vale', 'o', 'preço', 'a', 'meno', 'que', 'queira', 'uma', 'versão', 'pocket', 'não', 'compr', 'na', 'descrição', 'do', 'produto', 'não', 'diz', 'nada', 'a', 'devolução', 'irá', 'custar', '40', 'reai', 'para', 'mim', 'ou', 'seja', 'foram', 'desonesto', 'e', 'me', 'prejudicaram', 'no', 'submarino', 'os', 'vendedor', 'são', 'mai', 'honesto', 'informam', 'se', 'a', 'versão', 'é', 'pocket', 'ou', 'não', 'por', 'ser', 'produto', 'não', 'do', '', 'meu', 'interess', 'e', 'recebi', 'como', 'bônu', 'na', 'compra', 'de', 'kindl', 'poderia', 'ter', 'oportunidad', 'de', 'escolh', 'o', 'livro', 'da', 'minha', 'preferência', 'ess', 'preço', 'não', 'exist', 'não', 'tem', 'o', 'menor', 'cabimento', 'é', 'melhor', 'assistir', 'novela', 'mesmo', 'qual', 'a', 'desculpa', 'da', 'editora', 'pra', 'vender', 'o', 'livro', 'por', 'ess', 'preço', 'como', 'pode', 'ess', 'livro', 'está', 'ess', 'preço', 'para', 'o', 'kindl', 'isso', 'é', 'um', 'absurdo', 'além', 'de', 'ser', 'um', 'pedido', 'para', 'não', 'comprarmo', '', 'o', 'livro', 'é', 'nota', '10', 'ma', 'o', 'preço', 'que', 'a', 'amazon', 'está', 'cobrando', 'do', 'ebook', 'é', 'nota', '0', 'por', 'essa', 'e', 'outra', 'razõ', 'que', 'os', 'livro', 'digitai', 'no', 'brasil', 'ainda', 'não', 'engrenaram', 'como', 'poderiam', 'comprei', 'para', 'presentear', 'então', 'não', 'posso', 'avaliar', 'como', 'gostaria', 'se', 'eu', 'não', 'ler', 'entao', 'é', 'issochato', 'ser', 'obrigado', 'a', 'escrev', 'tudo', 'isso', 'acabo', 'de', 'ver', 'a', 'trilogia', 'impressa', 'por', '5490', 'amazon', 'está', 'sendo', 'ridícula', 'com', 'ess', 'preço', 'pensava', 'seriament', 'em', 'comprar', 'a', 'edição', 'kindl', 'ma', 'vou', 'ficar', 'com', 'os', 'que', 'tenho', 'mesmo', 'inviável', 'surreal', 'est', 'preço', 'depoi', 'reclamam', 'que', 'ebook', 'não', 'vend', 'no', 'brasil', 'ridículo', 'ainda', 'mai', 'quando', 'se', 'compara', 'com', 'o', 'preço', 'do', 'eua', 'sem', 'chanc', 'livro', 'muito', 'velho', 'nao', 'está', 'em', 'estado', 'de', 'conservação', 'part', 'do', 'livro', 'estavam', 'saindo', 'insatisfeita', 'não', 'recomendo', 'nao', 'recomendo', 'nao', 'recomendo', 'comprei', 'a', 'versão', 'ebook', 'kindl', 'e', 'me', 'arrependi', 'profundament', 'clarament', 'não', 'passaram', 'muito', 'tempo', 'polindo', 'ela', 'existem', 'diverso', 'erro', 'de', 'formatação', 'que', 'uma', 'simpl', 'revisão', 'teria', 'capturado', 'muita', 'gent', 'que', 'comprou', 'ess', 'box', 'reclam', 'que', 'chegou', 'com', 'algum', 'defeito', 'achei', 'que', 'o', 'meu', 'viria', 'em', 'perfeito', 'estado', 'ma', 'não', 'veio', 'é', 'bem', 'provável', 'que', 'estava', 'na', 'promoção', 'soment', 'os', 'estragado', 'nunca', 'mai', 'compro', 'na', 'amazon', 'supostament', 'baixei', 'est', 'livro', 'grati', 'apo', 'uma', 'promoçao', 'de', 'você', 'ma', 'na', 'verdad', 'o', 'download', 'não', 'foi', 'realizado', 'houvr', 'algun', 'problema', 'no', 'dia', '24052018', 'eu', 'fiz', 'o', 'pedido', 'do', 'box', 'paguei', 'até', 'ai', 'tudo', 'bem', '', 'porem', 'justo', 'na', 'semana', 'a', 'diant', 'a', 'dessa', 'que', 'efetuei', 'o', 'pedido', 'o', 'brasil', 'estava', 'em', 'um', 'tremenda', 'greve', 'geral', 'a', 'atendent', 'da', 'amazon', 'me', 'recomend', 'a', 'cancelar', 'o', 'pedido', 'poi', 'por', 'conta', 'da', 'greve', 'o', 'meu', 'pedido', 'iria', 'ficar', 'mai', 'de', 'doi', 'dia', 'em', 'separação', 'de', 'estoqu', 'o', 'que', 'é', 'errado', 'para', 'a', 'politica', 'interna', 'da', 'empresa', 'tudo', 'bem', '', 'cancelei', 'o', 'pedido', 'e', 'em', 'seguida', 'ela', 'fez', 'o', 'reembolso', 'dali', 'em', 'diant', 'começ', 'a', 'dor', 'de', 'cabeça', 'já', 'se', 'fazem', 'um', 'pouco', 'mai', 'de', 'dua', 'semana', 'que', 'o', 'pedido', 'foi', 'cancelado', 'e', 'nada', 'do', 'reembolso', 'cair', 'na', 'minha', 'conta', 'fiz', 'a', 'compra', 'em', 'debito', 'a', 'vista', 'o', 'que', 'significa', 'que', 'o', 'reembolso', 'deveria', 'acontec', 'ser', 'o', 'mesmo', 'sem', 'burocracia', 'obsverifiquei', 'com', 'o', 'meu', 'banco', 'e', 'nada', 'consta', 'sobr', 'credito', 'ou', 'debito', 'pendent', 'da', 'amazon', 'em', 'relação', 'com', 'a', 'minha', 'conta', 'o', 'box', 'veio', 'rasgado', 'e', 'não', 'gostei', 'porqu', 'parec', 'descaso', 'com', 'o', 'que', 'eu', 'comprei', 'as', 'extremidad', 'toda', 'machucada', 'não', 'gostei', 'do', 'estado', 'que', 'chegou', 'ma', 'os', 'livro', 'são', 'bonito', 'queria', 'entend', 'o', 'porqu', 'não', 'chegou', 'ainda', 'ess', 'livro', 'em', 'minha', 'casa', 'fui', 'até', 'o', 'correio', 'daqui', 'pra', 'ver', 'a', 'estava', 'lá', 'ma', 'ele', 'disseram', 'que', 'a', 'entrega', 'de', 'você', 'não', 'usam', 'o', 'correio', 'da', 'minha', 'cidad', 'é', 'algo', 'próprio', 'de', 'você', 'comprei', 'ess', 'livro', 'a', 'tempo', 'ma', 'nada', 'dele', 'chegar', 'obrigada', 'cansativo', 'o', 'kindl', 'não', 'facilita', 'as', 'ida', 'e', 'vinda', 'no', 'dicionário', 'nadsat', 'o', 'texto', 'se', 'perd', 'e', 'você', 'tem', 'que', 'ficar', 'procurando', 'ond', 'parou', 'a', 'leitura', 'a', 'coleção', 'é', 'maravilhosa', 'sir', 'arthur', 'conan', 'doyl', 'um', 'mestr', 'ma', 'o', 'produto', 'em', 'si', 'deixa', 'a', 'desejar', 'a', 'caixa', 'ond', 'vem', 'o', 'produto', 'se', 'rasga', 'ou', 'descola', 'fácil', 'pedi', 'a', 'substituição', 'do', 'produto', 'é', 'a', 'amazon', 'diss', 'que', 'demoraria', '1', 'mê', 'para', 'enviar', 'o', 'danificado', 'e', 'só', 'aí', 'iria', 'mandar', 'um', 'novo', 'ridículo', 'como', 'se', 'eu', 'tivess', 'culpa', 'do', 'envio', 'descuidado', 'dele', 'promoção', 'do', 'black', 'friday', 'que', 'na', 'verdad', 'não', 'era', 'preço', 'inclus', 'reduziu', 'além', 'de', 'estar', 'acima', 'de', 'outro', 'site', 'como', 'submarino', 'não', 'tinha', 'a', 'info', 'de', 'que', 'era', 'pocket', 'chegou', 'com', 'a', 'embalagem', 'rasgada', 'burocracia', 'para', 'retorno', 'e', 'nenhum', 'tipo', 'de', 'compensação', 'pelo', 'transtorno', 'o', 'box', 'é', 'maravilhoso', 'ma', 'doi', 'do', 'livro', 'vieram', 'com', 'a', 'brochura', 'arranhada/rasgada', 'creio', 'que', 'pode', 'ter', 'acontecido', 'na', 'hora', 'de', 'colocarem', 'os', 'livro', 'no', 'box', 'tenho', 'um', 'dispositivo', 'kindl', 'e', 'achei', 'que', 'poderia', 'comprar', 'qualquer', 'ebook', 'disponível', 'no', 'site', 'da', 'amazon', 'porém', 'ao', 'tentar', 'comprar', 'os', 'ebook', 'do', 'harri', 'potter', 'descobri', 'que', 'precisava', 'fazer', 'uma', 'compra', 'com', 'moeda', 'estrangeira', 'o', 'site', 'da', 'amazon', 'mostra', 'clarament', 'r', '899', 'em', 'reai', 'no', 'entanto', 'ao', 'ser', 'direcionado', 'ao', 'site', 'pottermor', 'o', 'valor', 'é', 'de', '899', 'dólare', 'não', 'comprei', 'é', 'um', 'absurdo', 'o', 'produto', 'veio', 'muito', 'bem', 'embalado', 'e', 'a', 'embalagem', 'para', 'present', 'é', 'muito', 'bonita', 'e', 'vale', 'o', 'valor', 'pago', 'a', 'pessoa', 'a', 'qual', 'dei', 'de', 'present', 'gostou', 'muito', 'porém', 'a', 'amazon', 'peca', 'no', 'serviço', 'de', 'entrega', 'ele', 'ficam', 'colocando', 'que', 'o', 'produto', 'saiu', 'para', 'entrega', 'e', 'você', 'fica', 'esperando', 'e', 'ele', 'não', 'chega', '', 'isso', 'ocorreu', 'por', '4', 'dia', 'seguido', 'colocavam', 'as', '8h', 'da', 'manhã', 'que', 'o', 'produto', 'saiu', 'para', 'entrega', 'e', 'entregariam', 'até', 'as', '20h', 'apó', 'as', '20h', 'uma', 'mensagem', 'de', 'desculpa', 'era', 'colocada', 'poi', 'não', 'efetuavam', 'a', 'entrega', 'a', 'transportadora', 'escolhida', 'pela', 'amazon', 'é', 'a', 'pior', 'que', 'já', 'me', 'efetu', 'uma', 'entrega', 'ness', 'quesito', 'poi', 'ficar', '4', 'dia', 'deixando', 'de', 'fazer', 'alguma', 'atividad', 'ou', 'pedindo', 'para', 'um', 'familiar', 'ficar', 'esperando', 'o', 'pacot', 'e', 'ele', 'não', 'era', 'entregu', 'é', 'desagradável', 'principalment', 'quando', 'é', 'uma', 'pessoa', 'que', 'está', 'fazendo', 'um', 'favor', 'no', 'seu', 'lugar', 'não', 'vale', 'a', 'pena', 'comprar', 'pelo', 'preço', 'proposto', 'na', 'promoção', '99', 'reai', 'muito', 'caro', 'compr', 'a', 'versão', 'física', 'bem', 'melhor', 'minha', 'primeira', 'experiência', 'de', 'compra', 'com', 'a', 'amazon', 'foi', 'péssima', 'comprei', 'o', 'item', 'para', 'presentear', 'e', 'me', 'atentei', 'à', 'data', 'limit', 'de', 'chegada', 'para', 'que', 'conseguiss', 'entregálo', 'na', 'data', 'correta', 'os', 'livro', 'não', 'chegaram', 'na', 'data', 'e', 'o', 'que', 'é', 'pior', 'a', 'transportadora', 'atualiz', 'o', 'statu', 'para', 'entregu', 'doi', 'dia', 'ant', 'da', 'data', 'limit', 'muito', 'provavelment', 'para', 'não', 'perder', 'a', 'pontuação', 'até', 'entendo', 'que', 'essa', 'época', 'o', 'fluxo', 'de', 'entrega', 'aumentam', 'ma', 'considero', 'falta', 'de', 'respeito', 'ao', 'consumidor', 'omitir', 'o', 'real', 'statu', 'de', 'entrega', 'ao', 'produto', 'infelizment', 'todo', 'os', 'comentário', 'positivo', 'que', 'ouvi', 'da', 'amazon', 'para', 'mim', 'não', 'se', 'concretizaram', 'e', 'eu', 'provavelment', 'não', 'voltarei', 'a', 'comprar', 'produto', 'chegou', 'danificado', 'com', 'rasgo', 'e', 'amaçado', 'na', 'caixa', 'q', 'envolv', 'a', 'coleção', 'e', 'os', 'livro', 'estão', 'com', 'as', 'capa', 'riscada', '', 'bem', 'decepcionado', 'poi', 'era', 'present', 'pra', 'minha', 'namorada', 'recebi', 'o', 'produto', 'todo', 'amassado', 'e', 'com', 'página', 'dobrada', 'e', 'marcada', 'não', 'valeu', 'a', 'pena', 'foi', 'de', 'péssima', 'qualidad', 'o', 'serviço', 'não', 'consigo', 'baixar', 'livro', 'para', 'lernão', 'consigo', 'adicionar', 'o', 'livro', 'a', 'minha', 'biblioteca', 'já', 'tentei', 'de', 'vária', 'maneira', 'e', 'não', 'consegui', 'fazer', 'um', 'do', 'livro', 'vieram', 'com', 'a', 'capa', 'rasgada', 'eu', 'também', 'cheguei', 'a', 'entrar', 'na', 'página', 'para', 'comprar', 'o', 'livro', 'em', 'questão', 'porém', 'com', 'avaliaçõ', 'como', 'esta', 'desisti', 'da', 'compra', 'acho', 'um', 'absurdo', 'uma', 'empresa', 'como', 'a', 'amazon', 'estar', 'envolvida', 'com', 'pirataria', 'ou', 'mesmo', 'comercializando', 'um', 'materi', 'incorreto', 'fraudulento', 'e', 'por', 'sua', 'vez', 'desrespeitando', 'o', 'consumidor', 'absurdo', 'eu', 'comprei', 'e', 'ganhei', 'como', 'você', 'anunciaram', 'no', 'entanto', 'não', 'baixou', 'o', 'livro', 'e', 'estou', 'muito', 'chateada', 'gostaria', 'que', 'você', 'resolvessem', 'grata', 'o', 'conteúdo', 'é', 'muito', 'bom', 'uma', 'forma', 'diferent', 'de', 'reconhec', 'fato', 'e', 'personagen', 'histórico', 'ma', 'o', 'que', 'deveria', 'ser', 'uma', 'experiência', 'agradável', 'e', 'divertida', 'tornas', 'extremament', 'penosa', 'em', 'razão', 'da', 'formatação', 'da', 'obra', 'alguma', 'página', 'ficam', 'com', 'fundo', 'preto', 'há', 'princípio', 'achei', 'que', 'foss', 'algum', 'defeito', 'do', 'meu', 'kindl', 'ma', 'apó', 'ler', 'outra', 'postagen', 'verifiquei', 'que', 'tratavas', 'de', 'problema', 'do', 'ebook', 'o', 'conteúdo', 'é', 'truncado', 'havendo', 'constant', 'troca', 'de', 'página', 'e', 'as', 'nota', 'que', 'na', 'versão', 'impressa', 'deveriam', 'enriquec', 'o', 'texto', 'no', 'ebook', 'tornam', 'a', 'compreensão', 'penosa', 'e', 'confusa', 'estou', 'extremament', 'decepcionado', 'com', 'o', 'resultado', 'e', 'mai', 'ainda', 'com', 'a', 'amazon', 'por', 'apó', 'tanta', 'crítica', 'ao', 'materi', 'manter', 'o', 'produto', 'à', 'venda', 'em', 'sua', 'loja', 'sem', 'as', 'devida', 'e', 'necessária', 'correçõ', 'nada', 'mai', 'justo', 'seria', 'se', 'a', 'empresa', 'interrompess', 'a', 'comercialização', 'do', 'livro', 'até', 'efetuar', 'as', 'correçõ', 'desta', 'forma', 'começo', 'a', 'me', 'arrepend', 'de', 'ter', 'adquirido', 'o', 'kindl', 'poi', 'não', 'vejo', 'muito', 'futuro', 'para', 'a', 'amazon', 'no', 'brasil', 'seguindo', 'como', 'esta', 'a', 'caixa', 'veio', '', 'em', 'um', '', 'péssimo', 'estado', 'part', 'de', 'baixo', 'rasgada', 'além', 'de', 'algun', 'amassado', 'os', 'livro', 'são', 'muito', 'pequeno', 'e', 'sensívei', 'folha', 'branca', 'que', 'atrapalham', 'a', 'leitura', 'e', 'também', 'não', 'vieram', 'em', 'um', 'estado', 'muito', 'bom', 'parecia', 'que', 'estava', 'comprando', 'um', 'livro', 'usado', '', '', 'não', 'recomendo', 'a', 'compra', 'só', 'não', 'devolvo', 'poi', 'paguei', 'um', 'preço', 'muito', 'baixo', 'em', 'uma', 'promoção', 'e', 'teria', 'que', 'pagar', 'pelo', 'frete', 'vai', 'ficar', 'encalhado', 'na', 'minha', 'estant', 'recomendo', 'muito', 'mai', 'comprar', 'os', '5', 'livro', 'originai', 'que', 'se', 'encontram', 'em', 'promoção', 'em', 'diverso', 'site', 'pelo', 'mesmo', 'valor', 'o', 'valor', 'do', 'ebook', 'está', 'vergonhoso', 'quero', 'muito', 'ma', 'assim', 'não', 'tem', 'como', 'comprar', 'enquanto', 'não', 'baixar', 'consideravelment', 'não', 'compro', 'o', 'livro', 'foi', 'classificado', 'como', 'novo', 'no', 'site', 'e', 'chegou', 'em', 'péssimo', 'estado', 'totalment', 'amassado', 'como', 'se', 'foss', 'um', 'livro', 'com', 'valor', 'de', '3', 'reai', 'não', 'gostei', 'porquê', 'a', 'capa', 'veio', 'com', 'um', 'rasgo', 'o', 'que', 'para', 'edição', 'de', 'colecionador', 'é', 'péssimo', 'espero', 'que', 'da', 'próxima', 'veze', 'que', 'eu', 'comprar', 'não', 'venham', 'novament', 'com', 'defeito', 'ou', 'algo', 'do', 'tipo', 'eu', 'nem', 'se', 'quer', 'recebi', 'o', 'produto', 'voce', 'são', 'muito', 'cara', 'de', 'pau', 'em', 'enviar', 'est', 'email', 'ja', 'falei', 'com', 'o', 'atendimento', 'ao', 'client', 'um', 'mont', 'de', 'veze', 'que', 'ainda', 'nao', 'recebi', 'meu', 'produto', 'em', 'casa', 'em', 'um', 'me', 'depoi', 'da', 'compra', 'não', 'consigo', 'entend', 'o', 'alto', 'valor', 'dess', 'ebook', 'amazon', 'a', 'obra', 'vale', '10', 'estrela', 'o', 'preço', 'uma', 'só', 'vamo', 'melhorar', 'o', 'preço', 'dess', 'ebook', 'a', 'caixa', 'veio', 'rasgada', 'e', 'amassada', 'gostaria', 'de', 'uma', 'caixa', 'nova', 'se', 'possivel', 'ma', 'os', 'livro', 'estão', 'em', 'otimo', 'estado', '']\n"
     ]
    }
   ],
   "source": [
    "stemmer = PorterStemmer()\n",
    "stemmed_palavras = []\n",
    "\n",
    "\n",
    "def steamming(texto):\n",
    "    \n",
    "    for palavra in texto:\n",
    "        \n",
    "        stemmed_palavras.append(stemmer.stem(palavra)) \n",
    "\n",
    "    return stemmed_palavras\n",
    "\n",
    "print(steamming(texto_amazon))"
   ]
  },
  {
   "cell_type": "markdown",
   "metadata": {},
   "source": [
    "## Primeira Limpeza: stopwords"
   ]
  },
  {
   "cell_type": "code",
   "execution_count": 452,
   "metadata": {},
   "outputs": [
    {
     "name": "stdout",
     "output_type": "stream",
     "text": [
      "['primeiramente', 'pedido', 'veiomas', 'reembolsaram', 'recebi', 'livro', 'sei', 'motivo', 'feito', 'tudo', 'orientado', 'receio', 'realizar', 'nova', 'compra', 'amor', 'deus', 'preço', 'estesó', 'brasil', 'porque', 'livro', 'ainda', 'imune', 'impostos', 'fiz', 'compra', 'errada', 'pra', 'comprar', 'livro', 'acabei', 'comprando', 'kindle', 'quero', 'cancelar', 'compra', 'kindle', 'segredo', 'mente', 'milionária', 'obrigada', 'karla', 'recebi', 'livro', 'acredito', 'enviado', 'endereço', 'errado', 'gostaria', 'encaminhado', 'kindle', 'aguardo', 'breve', 'retorno', 'possível', 'vi', 'nárnia', 'agora', 'amazon', 'cobrando', 'quase', 'r7000', 'senhor', 'anéis', 'quase', 'r10000', 'nada', 'pode', 'justificar', 'valores', 'obras', 'dúvida', 'incríveis', 'preços', 'ço', 'afronta', 'fiquei', 'satisfeita', 'velocidade', 'entrega', 'valor', 'frete', 'porém', 'comprei', 'produto', 'presente', 'aniversário', 'paguei', 'cartão', 'presente', 'embrulho', 'vei', 'embalado', 'maneira', 'normal', 'caixa', 'box', 'chegou', 'danificada', 'rasgada', 'laterais', 'assim', 'primeiro', 'volume', 'orelha', 'gigante', 'contracapa', 'sido', 'dobrada', 'maneira', 'proposital', 'havia', 'cola', 'lombada', 'volume', '3', 'volume', '5', 'laterais', 'capas', 'amaçadas', 'produtos', 'chegaram', 'seriamente', 'danificados', 'desapontada', 'falta', 'respeito', 'cliente', 'paga', 'produto', 'serviço', 'deseja', 'chega', 'excelentes', 'condições', 'mão', 'iria', 'fazer', 'devolução', 'pessoa', 'presenteei', 'tranquilamente', 'aceito', 'produto', 'danificado', 'capa', 'páginas', 'próximas', 'orelha', 'vieram', 'danificadas', 'primeira', 'vez', 'vem', 'assim', 'baixei', 'amostra', 'consigo', 'comprar', 'versão', 'completa', 'porque', 'indisponível', 'entrei', 'contato', 'editora', 'informada', 'problema', 'página', 'loja', 'amazon', 'normalizado', 'presente', 'momento', 'mudança', 'dois', 'meses', 'aguardando', 'aí', 'amazon', 'normalizado', 'box', 'veio', 'rasgado', 'entrei', 'endereço', 'sobre', 'ganho', 'livro', 'kindle', 'dia', '30/3', 'escolho', 'livro', 'imediatamente', 'fazer', 'login', 'valor', 'eh', 'debitado', 'cartão', 'absurdo', 'queria', 'comprar', 'livro', 'solicito', 'devolução', 'imediata', 'valor', 'verdade', 'queria', 'livro', 'cartas', 'livreto', 'presente', 'dei', 'posso', 'comentar', 'produto', 'tá', 'valendo', 'obrigado', 'grande', 'abraço', 'obrigado', 'abraço', 'amigo', 'irmão', 'ipad', 'início', 'manhã', 'dia', 'financiamento', 'orçamento', 'gigantes', 'ebook', 'bem', 'caro', 'livro', 'físico', 'noção', 'vou', 'comprar', 'esperar', 'chegar', 'r20', 'olhe', 'lá', 'livro', 'parece', 'bom', 'serviço', 'amazon', 'péssimo', 'filha', 'pediu', 'livro', '1', 'h', 'após', 'compra', 'queria', 'trocar', 'desistir', 'possível', 'receber', 'devolver', 'frete', 'conta', 'ai', 'compensa', 'golpe', 'pessimo', 'serviço', 'nunca', 'compro', 'nesse', 'site', 'golpista', 'sentir', 'enganado', 'ler', 'livro', 'paguei', 'ler', 'propaganda', 'método', 'venda', 'recomendo', 'retirem', 'livro', 'site', 'vergonha', 'ter', 'livro', 'desse', 'disposição', 'venda', 'livro', 'ótimo', 'oque', 'indignado', 'paguei', '4941', 'kindler', 'livro', 'normal', 'saraivaamericana', 'submarino', 'custa', '3990', 'assim', 'desanimador', 'comprar', 'grato', 'preço', 'poderia', 'menor', 'dia', 'abaixarem', 'menos', '1990', 'compro', 'pensar', 'duas', 'vezes', 'enquanto', 'vou', 'ter', 'pausar', 'leitura', 'série', 'pois', 'condições', 'ebook', 'ter', 'preço', 'quase', 'preço', 'versão', 'física', 'box', 'premium', 'lindo', 'porém', 'caixa', 'veio', 'rasgada', 'fiquei', 'desgosto', 'quero', 'trocar', 'apenas', 'box', 'outros', 'livros', 'vieram', 'forma', 'adequada', 'realmente', 'triste', 'sucesso', 'desses', 'vendido', 'versão', 'digital', 'custo', 'mínimo', 'produção', 'custo', '0', 'venda', 'preço', '2x', 'maior', 'produto', 'físico', 'custos', 'produção', 'distribuição', 'infinitamente', 'maiores', 'digital', 'simplesmente', 'lamentável', 'amazon', 'perdeu', 'todo', 'respeito', 'empresa', 'fiz', 'compra', 'encomenda', 'chegou', 'bem', 'rápido', 'entretanto', 'abrir', 'pacote', 'surpresa', 'veio', 'apenas', '1', 'livro', 'compra', '2', 'exemplares', 'inclusive', 'nota', 'fiscal', 'diz', 'duas', 'unidades', 'valor', 'cobrado', 'dois', 'livros', 'costumo', 'comprar', 'amazon', 'sempre', 'bem', 'atendida', 'espero', 'mau', 'atendido', 'resolva', 'rapidamente', 'acho', 'absurdo', 'preço', 'amazon', 'coloca', 'título', 'outros', 'estabelecimentos', 'possível', 'comprar', 'caixa', 'promocional', '5', 'livros', 'físicos', 'ainda', 'vem', 'brinde', 'r12000', 'comprar', 'aqui', 'gastaria', 'quase', 'r14000', 'mídia', 'digital', 'absurdo', 'amazon', 'rever', 'preços', 'beiram', 'ridículo', '<', 'class=alinknormal', 'datahook=productlinklinked', 'href=/caixaharrypotterediçãopremiumexclusivaamazon/dp/8532505708', '>', 'caixa', 'harry', 'potter', 'edição', 'premium', 'exclusiva', 'amazon', '<', '/a', '>', 'cuidado', 'anúncio', 'box', 'premium', 'box', 'apesar', 'vir', 'todo', 'emplastificado', 'chegou', 'pouco', 'poeira', 'dentro', 'plástico', 'algumas', 'capas', 'raladas', 'leves', 'ranhuras', 'estranho', 'parece', 'antes', 'colocar', 'box', 'hora', 'fabricação', 'livros', 'sofreram', 'pouco', 'maltratados', 'embalados', 'qualquer', 'jeito', 'comprei', 'promoção', '140', 'recomendo', 'comprar', 'caro', 'pois', 'papel', 'fino', 'transparente', 'dá', 'medo', 'manusear', 'rasgar', 'algumas', 'capas', 'aparentam', 'mal', 'coladas', 'apenas', '3', 'páginas', 'separam', 'capa', 'história', 'si', 'nada', 'separa', 'última', 'folha', 'história', 'capa', 'trás', 'então', 'espere', 'conteúdo', 'extra', 'sumário', 'etc', 'pois', 'livro', 'somente', 'história', 'acabou', 'esperava', 'pouco', 'fiel', 'versão', 'britânica', 'igual', 'capa', 'resto', 'impressão', 'qualquer', 'fazer', 'devido', 'material', 'premium', 'fiquei', 'decepcionado', 'porque', 'criei', 'muita', 'expectativas', 'final', 'qualidade', 'bem', 'baixa', 'único', 'ponto', 'positivo', 'capas', 'lindas', 'dentro', 'bem', 'pobrezinho', 'boa', 'sorte', 'todos', 'pegadinha', 'amazonnão', 'possível', 'baixar', 'livro', 'pra', 'entrar', 'sitemarketing', 'negativo', 'ponto', 'pra', 'realmente', 'decepção', 'indignada', 'site', 'especificar', 'produto', 'custa', 'colocar', 'descrição', 'pocket', 'versão', 'econômica', 'além', 'caixa', 'vir', 'toda', 'riscada', 'amassada', 'livros', 'capa', 'descascando', 'todos', 'sujos', 'algo', 'parece', 'cola', 'folhas', 'amassadas', 'rasgadas', 'palavras', 'comidas', 'sinceramente', 'nunca', 'achei', 'passar', 'coisa', 'dessas', 'site', 'tão', 'bem', 'falado', 'cometer', 'erro', 'desse', 'nunca', 'compro', 'amazon', 'ainda', 'vou', 'abrir', 'processo', 'nada', 'justo', 'conforme', 'outros', 'compradores', 'abaixo', 'optei', 'livro', 'promoção', 'amamossp', 'promoção', 'livro', 'sairia', 'graça', 'surpresa', 'cobrando', 'equivocadamente', 'livro', 'digital', 'r', '2100', 'sinceramente', 'tentando', 'entender', 'podem', 'colocar', 'livro', 'digital', 'preço', 'absurdo', 'destes', 'comprei', 'kindle', 'recentemente', 'adoraria', 'ter', 'obra', 'nele', 'preço', 'abusivo', 'destes', 'compro', 'aqui', 'china', 'dei', 'estrela', 'porque', 'possível', 'dar', '0', 'livro', 'ótimo', 'vi', 'livro', 'físico', 'própria', 'amazon', 'barato', 'ebook', 'senti', 'enganado', 'texto', 'livro', 'celular', 'exibido', 'duas', 'colunas', 'dificultando', 'leitura', 'entrei', 'contato', 'procurando', 'solução', 'obtive', 'abismada', 'existem', 'avaliações', 'negativas', 'ano', 'relação', 'preço', 'deste', 'ebook', 'abismada', 'ainda', 'ter', 'baixado', 'preço', 'adquiri', 'recentemente', 'kindle', 'feliz', 'fiquei', 'entusiasmada', 'adquirir', 'senhor', 'anéis', 'formato', 'ebook', 'deparei', 'preço', 'desisti', 'hora', 'apenas', 'queria', 'saber', 'lógica', 'vender', 'livro', 'formato', 'digital', 'neste', 'preço', 'estratosférico', 'bom', 'alguém', 'pagando', 'francamente', 'comprei', 'versão', 'kindle', 'confundi', 'comprei', 'novamente', 'mesma', 'versão', 'livro', 'formato', 'kindle', 'pois', 'amazon', 'faturou', 'dois', 'pedidos', 'feitos', 'dia', 'permite', 'compras', 'kindle', 'duplicadas', 'pode', 'continuar', 'principalmente', 'tratando', 'conteúdo', 'digital', 'infelizmente', 'caixa', 'veio', 'rasgada', 'amazon', 'prontamente', 'trocou', 'produto', 'veio', 'rasgada', 'novamente', 'segunda', 'tentativa', 'troca', 'amazon', 'entendeu', 'bem', 'problema', 'preferiu', 'devolver', 'valor', 'pago', 'solução', 'gostaria', 'intenção', 'apenas', 'substituir', 'novamente', 'acabei', 'ficando', 'produto', 'avariado', 'entendo', 'motivo', 'opção', 'reembolso', 'recorrência', 'problema', 'custos', 'envolvidos', 'fim', 'melhor', 'solução', 'mim', 'comprei', 'box', 'harry', 'potter', 'entregue', 'ontem', 'pois', 'recebi', 'email', 'dizendo', 'nao', 'possivel', 'entregar', 'endereço', 'nao', 'localizado', 'entrar', 'contato', 'empresa', 'irei', 'entrar', 'contato', 'amazon', 'telefone', 'passaram', 'email', 'respondo', 'nao', 'dar', 'certo', 'vcs', 'poderiam', 'ligar', 'alguma', 'duvida', 'pedem', 'telefone', 'entao', 'aguardo', 'resposta', 'vcs', 'email', 'carolbran31', '@', 'gmailcom', 'livro', 'bom', 'configuração', 'formato', 'kindle', 'ficou', 'péssima', 'impacta', 'leitura', 'recomendo', 'compra', 'formato', 'kindle', 'vou', 'começar', 'leitura', 'conjunto', 'vários', 'booktubers', 'comprei', 'maior', 'expectativa', 'caixa', 'amazon', 'veio', 'extra', 'grande', '30', 'saquinhos', 'ar', 'junto', '2outros', 'livrinhos', 'acompanhando', 'assim', 'transportadora', 'arrasou', 'embalagem', 'toda', 'rasgada', 'box', 'veio', 'pontas', 'amassadas', 'danificou', 'livros', 'dentro', 'triste', 'demais', 'amazon', 'deixei', 'americanas', 'submarino', 'saraivapois', 'livros', 'vinham', 'empoeirados', 'agora', 'penso', 'comprar', 'amazon', 'pois', 'oferecem', 'calaaboca', '20', 'produto', 'pra', 'coleciona', 'importa', '20', 'sim', 'produto', 'intacto', 'estante', 'nota', '0', 'amazon', 'edição', 'maravilhosa', 'preço', 'bom', 'contudo', 'livro', 'veio', 'rasgado', 'canto', 'superior', 'direito', 'lombada', 'primeira', 'vez', 'ocorrea', 'amazon', 'costuma', 'excelenteé', 'preciso', 'dizer', 'olá', 'abaixo', 'cópia', 'mensagem', 'enviada', 'editora', 'lamppm', 'responsável', 'lançamento', 'sapiens', 'brasil', 'referese', 'exclusivamente', 'versão', 'kindle', 'lendo', 'adorando', 'sapiens', 'yuval', 'noah', 'harari', 'entanto', 'utilizando', 'kindle', 'fazêlo', 'sendo', 'obrigado', 'enfrentar', 'problema', 'enorme', 'divisão', 'silábica', 'aleatória', 'primeira', 'vez', 'livro', 'português', 'deparei', 'aparente', 'defeito', 'conversão', 'livro', 'formato', 'amazon', 'falo', 'porque', 'primeiro', 'título', 'português', 'leio', 'nesse', 'formato', 'posso', 'atestar', 'nunca', 'aconteceu', 'antes', 'fico', 'então', 'obrigado', 'conviver', 'bizarrices', 'tipo', 'mulheres', 'cerimônias', 'sacrifício', 'particular', 'moderno', 'desconhecidos', 'detalhe', 'alterando', 'tamanho', 'fonte', 'resolve', 'problema', 'apenas', 'desloca', 'outros', 'pontos', 'texto', 'inglês', 'surpresa', 'pois', 'regra', 'quanto', 'posso', 'notar', 'porém', 'tanto', 'inglês', 'quanto', 'português', 'livros', 'li', 'agora', 'kindle', 'evitavam', 'máximo', 'separação', 'silábica', 'através', 'simples', 'edição', 'página', 'acordo', 'tamanho', 'fonte', 'utilizado', 'momento', 'separação', 'dá', 'apenas', 'eventualmente', 'infelizmente', 'ocorre', 'agora', 'sapiens', 'divisão', 'constante', 'inúmeros', 'irritantes', 'casos', 'completamente', 'errada', 'realidade', 'prazer', 'leitura', 'vai', 'sendo', 'minado', 'desprazer', 'dessa', 'lamentável', 'falha', 'chegando', 'quase', 'comprometêlo', 'completo', 'pergunta', 'havido', 'algum', 'problema', 'conversão', 'desse', 'específico', 'livro', 'versão', 'kindle', 'estaria', 'ocorrendo', 'algum', 'conflito', 'versões', 'recentemente', 'update', 'kindle', 'alguém', 'trouxe', 'problema', 'informo', 'encaminhando', 'mesma', 'mensagem', 'amazon', 'caso', 'origem', 'defeito', 'aqui', 'relatado', 'competência', 'daquela', 'empresa', 'parabéns', 'editar', 'brasil', 'livro', 'tão', 'especial', 'atenciosamente', 'subscrevome', 'esperança', 'ter', 'alguma', 'solução', 'lamentável', 'contratempo', 'nelson', 'meirelles', 'preço', 'extremamente', 'abusivo', 'queria', 'têlo', 'original', 'porém', 'leio', 'versão', 'gratuita', 'conseguida', 'facilmente', 'sites', 'disponibilizam', 'graça', 'livros', 'ereaders', 'comprei', 'boxes', 'primeira', 'vez', 'produto', 'chegou', 'mãos', 'caixa', 'bem', 'danificada', 'ambos', 'boxes', 'comprei', '2', 'machucados', 'fiquei', 'indignado', 'todo', 'amante', 'livros', 'entrei', 'contato', 'amazon', 'recebi', 'excelente', 'atendimento', 'solicitei', 'troca', 'mandei', 'produtos', 'volta', 'recebi', 'novos', 'boxes', 'ontem', '05/09', 'caixa', 'veio', 'ótimo', 'estado', 'porém', 'boxes', 'veio', 'grande', 'amassão', 'ver', 'fotos', 'livro', 'danificado', 'visto', 'dessa', 'vez', 'caixa', 'veio', 'quase', 'perfeitas', 'condições', 'conclusão', 'cheguei', 'produto', 'saiu', 'danificado', 'lojas', 'amazon', 'gosto', 'empresa', 'prestam', 'serviço', 'incrível', 'atendimento', 'cliente', 'dessa', 'vez', 'vacilaram', 'feio', 'irei', 'mandar', 'produto', 'novamente', 'porque', 'possibilidade', 'enviarem', 'outro', 'pior', 'pode', 'ter', 'sido', 'caso', 'desse', 'nao', 'ia', 'comprar', 'edição', 'fato', 'maioria', 'comentarios', 'serem', 'negativos', 'la', 'aventurar', 'comprei', 'chegou', 'agora', 'box', 'aqui', 'casa', 'recém', 'chegou', 'página', 'rasgadas', 'livro', 'sí', 'veio', 'todo', 'sujo', 'arranhado', 'principalmente', 'lombadas', 'tudo', 'bem', 'ia', 'ficar', 'eai', 'dois', 'livros', 'paginas', 'rasgadas', 'amazon', 'vc', 'ta', 'fazendo', 'jogo', 'comigo', 'livro', '1', '4', 'estao', 'últimas', 'páginas', 'descoladas', 'rasgadas', 'absurdo', 'ja', 'pedi', 'reembolsoe', 'aconselho', 'vcs', 'estao', 'duvidas', 'nao', 'comprarem', 'olhem', 'fotos', 'tirem', 'próprias', 'conclusões', 'oh', 'amazon', 'favor', 'atualiza', 'edição', 'condição', 'ler', 'faltam', 'frases', 'personagens', 'diálogos', 'pedaço', 'livro', 'pra', 'entender', 'acontecendo', 'gostei', 'mt', 'porem', 'fiquei', 'desapontado', 'pq', 'box', 'veio', 'rasgado', 'pouco', 'parte', 'baixo', 'amassado', 'q', 'chegou', 'ate', 'amassar', 'livro', 'tirar', 'demora', 'pra', 'entrega', 'muita', 'tristeza', 'venho', 'redigir', 'resenha', 'infelizmente', 'amazon', 'pecou', 'venda', 'desse', 'box', 'fotografia', 'box', 'aparece', 'livros', 'pretos', 'acabamento', 'dourados', 'recebi', 'livros', 'preto', 'péssimo', 'acabamento', 'prata', 'livro', 'veio', 'defeito', 'fábrica', 'cola', 'grudada', '2', 'livros', 'capa', 'descascando', '1', 'especificada', 'momento', 'algum', 'compra', 'folhas', 'brancas', 'orelha', 'compra', 'justifica', 'máxima', 'popular', 'barato', 'sai', 'caro', 'vergonha', 'ter', 'versão', 'português', 'decente', 'ler', 'kindle', 'vide', 'informação', 'problemas', 'relatados', 'tantos', 'anos', 'lançamento', 'versão', 'confiável', 'peço', 'verifiquem', 'reparem', 'erro', 'acredito', 'muitos', 'outros', 'usuários', 'sentem', 'lesados', 'verifiquei', 'antes', 'assinar', 'vi', 'toda', 'série', 'harry', 'potter', 'disponível', 'pra', 'kindke', 'unlimited', 'dar', 'continuidade', 'leitura', 'ter', 'injusto', 'logo', 'solicito', 'reparo', 'imediato', 'livro', 'digital', 'sistema', 'horrível', 'comprei', 'nada', 'clique', 'pra', 'ver', 'melhor', 'queria', 'livros', 'físicos', 'ebook', 'queria', 'ver', 'cancele', 'comprar', 'obrigada', 'stela', 'maris', 'alguns', 'dias', 'atrás', 'adquiri', 'produto', 'amazon', 'box', 'sherlock', 'holmes', 'editora', 'harper', 'collins', 'fiquei', 'feliz', 'pois', 'tamanha', 'acessibilidade', 'preço', 'baratos', 'comparado', 'outras', 'lojas', 'entretanto', 'hoje', 'receber', 'box', 'deparei', 'caixa', 'bastante', 'estreita', 'surpreendendome', 'vir', 'quer', 'espuma', 'plástico', 'bolha', 'afinal', 'livros', 'materiais', 'bastante', 'sensíveis', 'após', 'retirada', 'caixa', 'amassada', 'vi', 'box', 'amassado', 'quase', 'todas', 'bordaso', 'pareceu', 'pancadas', 'fortes', 'muitos', 'arranhões', 'riscos', 'certo', 'transportadora', 'encarregada', 'boa', 'parte', 'culpa', 'custa', 'colocar', 'embalagem', 'maior', 'aconchegante', 'produto', 'creio', 'irei', 'dar', 'entrada', 'processo', 'troca', 'pois', 'burocracia', 'demora', 'avaliar', 'reentregar', 'produto', 'valeriam', 'pena', 'única', 'felicidade', 'livros', 'apesar', 'capa', 'ter', 'vindo', 'pouco', 'amassada', 'comprometidos', 'parte', 'importante', 'leitura', 'porém', 'produto', 'perdeu', 'todo', 'requinte', 'chama', 'atenção', 'consumidor', 'hora', 'compra', 'primeira', 'vez', 'comprei', 'amazon', 'porém', 'acho', 'última', 'visto', 'custo', 'acessível', 'vale', 'apena', 'tendo', 'vista', 'descuido', 'entrega', 'box', 'maravilhoso', 'chegou', 'antes', 'previsto', 'veio', 'amassado', 'várias', 'partes', 'rasgadas', 'maior', 'parte', 'baixo', 'imagem', 'triste', 'gostaria', 'poder', 'trocar', 'caixa', 'veio', 'rasgada', 'livros', 'parecem', 'usados', 'chegou', 'atraso', 'amassado', 'box', 'falha', 'impressão', 'capa', 'camêra', 'secreta', 'esperava', 'cuidado', 'transporte', 'melhor', 'qualidade', 'material', 'experiência', 'ebook', 'frustrante', 'kindle', 'livro', 'cor', 'agradável', 'desestimula', 'leitura', 'parece', 'xerox', 'primeira', 'vez', 'uso', 'página', 'decepção', 'tá', 'sendo', 'total', 'duplicaram', 'pedido', '😤', 'tentei', 'cancelar', 'adivinhem', 'impossível', 'ainda', 'afirmam', 'possibilidade', 'remover', 'intens', 'cancelar', 'pedido', 'inteiro', 'opção', 'existe', 'ahhh', 'número', 'atenção', 'cliente', 'oferecido', 'página', 'amazon', 'simplesmente', 'existe', 'decepção', 'total', 'primeira', 'última', 'vez', 'uso', 'página', 'pra', 'comprar', 'recomendo', 'pra', 'ninguém', 'gastam', 'papel', 'pode', 'ebook', 'custar', 'tanto', 'barato', 'todos', 'iriam', 'comprar', 'livro', 'incrivel', 'vale', 'preço', 'menos', 'queira', 'versão', 'pocket', 'compre', 'descrição', 'produto', 'diz', 'nada', 'devolução', 'irá', 'custar', '40', 'reais', 'mim', 'desonestos', 'prejudicaram', 'submarino', 'vendedores', 'honestos', 'informam', 'versão', 'pocket', 'produto', 'interesse', 'recebi', 'bônus', 'compra', 'kindle', 'poderia', 'ter', 'oportunidade', 'escolher', 'livro', 'preferência', 'preço', 'existe', 'menor', 'cabimento', 'melhor', 'assistir', 'novela', 'desculpa', 'editora', 'pra', 'vender', 'livro', 'preço', 'pode', 'livro', 'preço', 'kindle', 'absurdo', 'além', 'pedido', 'comprarmos', 'livro', 'nota', '10', 'preço', 'amazon', 'cobrando', 'ebook', 'nota', '0', 'outras', 'razões', 'livros', 'digitais', 'brasil', 'ainda', 'engrenaram', 'poderiam', 'comprei', 'presentear', 'então', 'posso', 'avaliar', 'gostaria', 'ler', 'entao', 'issochato', 'obrigado', 'escrever', 'tudo', 'acabo', 'ver', 'trilogia', 'impressa', '5490', 'amazon', 'sendo', 'ridícula', 'preço', 'pensava', 'seriamente', 'comprar', 'edição', 'kindle', 'vou', 'ficar', 'inviável', 'surreal', 'preço', 'reclamam', 'ebook', 'vende', 'brasil', 'ridículo', 'ainda', 'compara', 'preço', 'eua', 'chance', 'livro', 'velho', 'nao', 'estado', 'conservação', 'partes', 'livro', 'saindo', 'insatisfeita', 'recomendo', 'nao', 'recomendo', 'nao', 'recomendo', 'comprei', 'versão', 'ebook', 'kindle', 'arrependi', 'profundamente', 'claramente', 'passaram', 'tempo', 'polindo', 'existem', 'diversos', 'erros', 'formatação', 'simples', 'revisão', 'capturado', 'muita', 'gente', 'comprou', 'box', 'reclamou', 'chegou', 'algum', 'defeito', 'achei', 'viria', 'perfeito', 'estado', 'veio', 'bem', 'provável', 'promoção', 'somente', 'estragados', 'nunca', 'compro', 'amazon', 'supostamente', 'baixei', 'livro', 'gratis', 'apos', 'promoçao', 'verdade', 'download', 'realizado', 'houvr', 'algun', 'problema', 'dia', '24052018', 'fiz', 'pedido', 'box', 'paguei', 'ai', 'tudo', 'bem', 'porem', 'justo', 'semana', 'diante', 'dessa', 'efetuei', 'pedido', 'brasil', 'tremenda', 'greve', 'geral', 'atendente', 'amazon', 'recomendou', 'cancelar', 'pedido', 'pois', 'conta', 'greve', 'pedido', 'iria', 'ficar', 'dois', 'dias', 'separação', 'estoque', 'errado', 'politica', 'interna', 'empresa', 'tudo', 'bem', 'cancelei', 'pedido', 'seguida', 'fez', 'reembolso', 'dali', 'diante', 'começou', 'dor', 'cabeça', 'fazem', 'pouco', 'duas', 'semanas', 'pedido', 'cancelado', 'nada', 'reembolso', 'cair', 'conta', 'fiz', 'compra', 'debito', 'vista', 'significa', 'reembolso', 'deveria', 'acontecer', 'burocracia', 'obsverifiquei', 'banco', 'nada', 'consta', 'sobre', 'credito', 'debito', 'pendente', 'amazon', 'relação', 'conta', 'box', 'veio', 'rasgado', 'gostei', 'porque', 'parece', 'descaso', 'comprei', 'extremidades', 'toda', 'machucada', 'gostei', 'estado', 'chegou', 'livros', 'bonitos', 'queria', 'entender', 'porque', 'chegou', 'ainda', 'livro', 'casa', 'correio', 'daqui', 'pra', 'ver', 'lá', 'disseram', 'entrega', 'usam', 'correio', 'cidade', 'algo', 'próprio', 'comprei', 'livro', 'tempos', 'nada', 'chegar', 'obrigada', 'cansativo', 'kindle', 'facilita', 'idas', 'vindas', 'dicionário', 'nadsat', 'texto', 'perde', 'ficar', 'procurando', 'onde', 'parou', 'leitura', 'coleção', 'maravilhosa', 'sir', 'arthur', 'conan', 'doyle', 'mestre', 'produto', 'si', 'deixa', 'desejar', 'caixa', 'onde', 'vem', 'produto', 'rasga', 'descola', 'fácil', 'pedi', 'substituição', 'produto', 'amazon', 'disse', 'demoraria', '1', 'mês', 'enviar', 'danificado', 'aí', 'iria', 'mandar', 'novo', 'ridículo', 'culpa', 'envio', 'descuidado', 'promoção', 'black', 'friday', 'verdade', 'preço', 'inclusive', 'reduziu', 'além', 'acima', 'outros', 'sites', 'submarino', 'info', 'pocket', 'chegou', 'embalagem', 'rasgada', 'burocracia', 'retorno', 'nenhum', 'tipo', 'compensação', 'transtornos', 'box', 'maravilhoso', 'dois', 'livros', 'vieram', 'brochura', 'arranhada/rasgada', 'creio', 'pode', 'ter', 'acontecido', 'hora', 'colocarem', 'livros', 'box', 'dispositivo', 'kindle', 'achei', 'poderia', 'comprar', 'qualquer', 'ebook', 'disponível', 'site', 'amazon', 'porém', 'tentar', 'comprar', 'ebooks', 'harry', 'potter', 'descobri', 'precisava', 'fazer', 'compra', 'moeda', 'estrangeira', 'site', 'amazon', 'mostra', 'claramente', 'r', '899', 'reais', 'entanto', 'direcionado', 'site', 'pottermore', 'valor', '899', 'dólares', 'comprei', 'absurdo', 'produto', 'veio', 'bem', 'embalado', 'embalagem', 'presente', 'bonita', 'vale', 'valor', 'pago', 'pessoa', 'dei', 'presente', 'gostou', 'porém', 'amazon', 'peca', 'serviço', 'entrega', 'ficam', 'colocando', 'produto', 'saiu', 'entrega', 'fica', 'esperando', 'chega', 'ocorreu', '4', 'dias', 'seguidos', 'colocavam', '8h', 'manhã', 'produto', 'saiu', 'entrega', 'entregariam', '20h', 'após', '20h', 'mensagem', 'desculpa', 'colocada', 'pois', 'efetuavam', 'entrega', 'transportadora', 'escolhida', 'amazon', 'pior', 'efetuou', 'entrega', 'nesse', 'quesito', 'pois', 'ficar', '4', 'dias', 'deixando', 'fazer', 'alguma', 'atividade', 'pedindo', 'familiar', 'ficar', 'esperando', 'pacote', 'entregue', 'desagradável', 'principalmente', 'pessoa', 'fazendo', 'favor', 'lugar', 'vale', 'pena', 'comprar', 'preço', 'proposto', 'promoção', '99', 'reais', 'caro', 'compre', 'versão', 'física', 'bem', 'melhor', 'primeira', 'experiência', 'compras', 'amazon', 'péssima', 'comprei', 'item', 'presentear', 'atentei', 'data', 'limite', 'chegada', 'conseguisse', 'entregálo', 'data', 'correta', 'livros', 'chegaram', 'data', 'pior', 'transportadora', 'atualizou', 'status', 'entregue', 'dois', 'dias', 'antes', 'data', 'limite', 'provavelmente', 'perder', 'pontuação', 'entendo', 'época', 'fluxo', 'entregas', 'aumentam', 'considero', 'falta', 'respeito', 'consumidor', 'omitir', 'real', 'status', 'entrega', 'produto', 'infelizmente', 'todos', 'comentários', 'positivos', 'ouvi', 'amazon', 'mim', 'concretizaram', 'provavelmente', 'voltarei', 'comprar', 'produto', 'chegou', 'danificado', 'rasgos', 'amaçados', 'caixa', 'q', 'envolve', 'coleção', 'livros', 'capas', 'riscadas', 'bem', 'decepcionado', 'pois', 'presente', 'pra', 'namorada', 'recebi', 'produto', 'todo', 'amassado', 'páginas', 'dobradas', 'marcadas', 'valeu', 'pena', 'péssima', 'qualidade', 'serviço', 'consigo', 'baixar', 'livro', 'lernão', 'consigo', 'adicionar', 'livro', 'biblioteca', 'tentei', 'várias', 'maneiras', 'consegui', 'fazer', 'livros', 'vieram', 'capa', 'rasgada', 'cheguei', 'entrar', 'página', 'comprar', 'livro', 'questão', 'porém', 'avaliações', 'desisti', 'compra', 'acho', 'absurdo', 'empresa', 'amazon', 'envolvida', 'pirataria', 'comercializando', 'material', 'incorreto', 'fraudulento', 'vez', 'desrespeitando', 'consumidor', 'absurdo', 'comprei', 'ganhei', 'anunciaram', 'entanto', 'baixou', 'livro', 'chateada', 'gostaria', 'resolvessem', 'grata', 'conteúdo', 'bom', 'forma', 'diferente', 'reconhecer', 'fatos', 'personagens', 'históricos', 'deveria', 'experiência', 'agradável', 'divertida', 'tornase', 'extremamente', 'penosa', 'razão', 'formatação', 'obra', 'algumas', 'páginas', 'ficam', 'fundo', 'preto', 'princípio', 'achei', 'algum', 'defeito', 'kindle', 'após', 'ler', 'outras', 'postagens', 'verifiquei', 'tratavase', 'problema', 'ebook', 'conteúdo', 'truncado', 'havendo', 'constantes', 'trocas', 'páginas', 'notas', 'versão', 'impressa', 'deveriam', 'enriquecer', 'texto', 'ebook', 'tornam', 'compreensão', 'penosa', 'confusa', 'extremamente', 'decepcionado', 'resultado', 'ainda', 'amazon', 'após', 'tantas', 'críticas', 'material', 'manter', 'produto', 'venda', 'loja', 'devidas', 'necessárias', 'correções', 'nada', 'justo', 'empresa', 'interrompesse', 'comercialização', 'livro', 'efetuar', 'correções', 'desta', 'forma', 'começo', 'arrepender', 'ter', 'adquirido', 'kindle', 'pois', 'vejo', 'futuro', 'amazon', 'brasil', 'seguindo', 'caixa', 'veio', 'péssimo', 'estado', 'parte', 'baixo', 'rasgada', 'além', 'alguns', 'amassados', 'livros', 'pequenos', 'sensíveis', 'folhas', 'brancas', 'atrapalham', 'leitura', 'vieram', 'estado', 'bom', 'parecia', 'comprando', 'livro', 'usado', 'recomendo', 'compra', 'devolvo', 'pois', 'paguei', 'preço', 'baixo', 'promoção', 'pagar', 'frete', 'vai', 'ficar', 'encalhado', 'estante', 'recomendo', 'comprar', '5', 'livros', 'originais', 'encontram', 'promoção', 'diversos', 'sites', 'valor', 'valor', 'ebook', 'vergonhoso', 'quero', 'assim', 'comprar', 'enquanto', 'baixar', 'consideravelmente', 'compro', 'livro', 'classificado', 'novo', 'site', 'chegou', 'péssimo', 'estado', 'totalmente', 'amassado', 'livro', 'valor', '3', 'reais', 'gostei', 'porquê', 'capa', 'veio', 'rasgo', 'edição', 'colecionador', 'péssimo', 'espero', 'próximas', 'vezes', 'comprar', 'venham', 'novamente', 'defeitos', 'algo', 'tipo', 'quer', 'recebi', 'produto', 'voces', 'cara', 'pau', 'enviar', 'email', 'ja', 'falei', 'atendimento', 'cliente', 'monte', 'vezes', 'ainda', 'nao', 'recebi', 'produto', 'casa', 'mes', 'compra', 'consigo', 'entender', 'alto', 'valor', 'desses', 'ebooks', 'amazon', 'obra', 'vale', '10', 'estrelas', 'preço', 'vamos', 'melhorar', 'preço', 'desses', 'ebooks', 'caixa', 'veio', 'rasgada', 'amassada', 'gostaria', 'caixa', 'nova', 'possivel', 'livros', 'otimo', 'estado']\n"
     ]
    }
   ],
   "source": [
    "palavras_sem_stopwords = []\n",
    "\n",
    "def stopwords2(texto):\n",
    "    \n",
    "    palavras = word_tokenize(' '.join(texto), language='portuguese')\n",
    "\n",
    "    stopwords_pt = set(stopwords.words('portuguese'))\n",
    "    \n",
    "    for palavra in palavras:\n",
    "        if palavra not in stopwords_pt:\n",
    "            palavras_sem_stopwords.append(palavra)\n",
    "    \n",
    "    return palavras_sem_stopwords\n",
    "print(stopwords2(texto_amazon))"
   ]
  },
  {
   "cell_type": "code",
   "execution_count": 456,
   "metadata": {},
   "outputs": [
    {
     "name": "stdout",
     "output_type": "stream",
     "text": [
      "primeiramente meu pedido nem veiomas me reembolsaram não recebi o livro  não sei o motivo foi feito tudo como orientado estou com muito receio de realizar nova compra pelo amor de deus que preço é estesó mesmo no brasil e é porque livro ainda é imune de impostos fiz a compra errada era pra comprar o livro e acabei comprando esse kindle quero cancelar a compra do kindle o segredo da mente milionária obrigada karla não recebi o livro acredito que tenham enviado no endereço errado gostaria que o mesmo fosse encaminhado para o meu kindle aguardo breve retorno não  é possível vi nárnia agora e a amazon  esta cobrando quase r7000 senhor dos anéis a quase r10000 nada pode justificar estes valores as obras são sem dúvida incríveis  mas os preços ço são uma afronta fiquei satisfeita com a velocidade da entrega e o valor do frete porém eu comprei esse produto como presente de aniversário paguei pelo cartão de presente e embrulho e ele vei embalado de maneira normal a caixa do box chegou danificada e rasgada nas laterais assim como o primeiro volume estava com uma orelha gigante na contracapa como se houvesse sido dobrada de maneira proposital havia cola na lombada do volume 3 e o volume 5 estava com as laterais das capas amaçadas ou seja os produtos chegaram seriamente danificados estou muito desapontada com isso com a falta de respeito com o cliente se você paga por um produto e serviço deseja que ele chega em excelentes condições a sua mão eu iria fazer a devolução mas a pessoa a quem eu presenteei muito tranquilamente aceito o produto danificado a capa e as páginas próximas a orelha vieram danificadas e essa não é a primeira vez que vem assim baixei a amostra e não consigo comprar a versão completa porque está indisponível entrei em contato com editora e fui informada que o problema está na página da loja amazon e que seria normalizado até o presente momento não houve mudança já tem dois meses que estou aguardando e aí amazon quando será normalizado meu box veio rasgado entrei num endereço sobre o ganho de um livro em kindle no dia 30/3 escolho o livro e imediatamente ao fazer meu login o valor eh debitado do meu cartão um absurdo não queria comprar o livro solicito uma devolução imediata do valor na verdade eu queria o livro e não as cartas e o livreto como foi um presente que dei não posso comentar o produto tá valendo obrigado grande abraço e obrigado abraço amigo é irmão do meu ipad início da manhã no dia do meu financiamento de um orçamento para os gigantes o ebook esta bem mais caro que o livro físico muito sem noção não vou comprar não esperar até chegar nos r20 e olhe lá o livro parece ser bom o serviço a amazon é péssimo  minha filha pediu o livro 1 h após a compra queria trocar ou desistir não foi possível até receber e devolver com o frete por minha conta e ai que não compensa um golpe  pessimo serviço nunca mais compro nesse site golpista me sentir enganado ao ler o livro paguei para ler propaganda de um método que está a venda recomendo que retirem o livro do site é uma vergonha ter um livro desse a disposição para venda o livro é ótimo oque estou indignado é que paguei 4941 no kindler e o livro normal na saraivaamericana e submarino custa 3990 assim é desanimador comprar   grato o preço poderia ser menor no dia em que abaixarem para menos de 1990 eu compro sem pensar duas vezes mas por enquanto vou ter que pausar minha leitura na série pois não tem condições de um ebook ter esse preço é quase o mesmo preço da versão física o box premium é lindo porém a caixa veio rasgada fiquei com desgosto e quero trocar apenas esse box os outros livros vieram de forma adequada realmente triste um sucesso desses ser vendido numa versão digital que teve custo mínimo de produção e tem custo 0 de venda num preço 2x maior que o produto físico que teve custos de produção e distribuição infinitamente maiores do que o digital simplesmente lamentável amazon perdeu todo o respeito que eu tinha pela empresa fiz a compra e a encomenda chegou bem rápido entretanto ao abrir o pacote uma surpresa veio apenas 1 livro e a compra foi de 2 exemplares inclusive a nota fiscal diz que são duas unidades e o valor cobrado é por dois livros costumo comprar da amazon e sempre fui muito bem atendida espero que o mau atendido se resolva rapidamente acho um absurdo o preço que a amazon coloca em um título como este em outros estabelecimentos é possível comprar uma caixa promocional com os 5 livros físicos e ainda vem mais um de brinde por r12000 se eu comprar aqui gastaria quase r14000 pela mídia digital isto é um absurdo a amazon tem que rever esses preços já que beiram ao ridículo <a class=alinknormal datahook=productlinklinked href=/caixaharrypotterediçãopremiumexclusivaamazon/dp/8532505708>caixa harry potter  edição premium exclusiva amazon</a> cuidado com o anúncio o box não é premium o meu box apesar de vir todo emplastificado ele chegou com um pouco de poeira dentro do plástico e algumas capas estavam raladas com leves ranhuras muito estranho parece que antes de colocar no box na hora da fabricação os livros sofreram um pouco e foram maltratados e embalados de qualquer jeito eu comprei numa promoção por 140 e não recomendo comprar se estiver mais caro que isso pois o papel é muito fino e transparente dá medo de manusear e rasgar algumas capas aparentam estar mal coladas apenas 3 páginas separam a capa da história em si e nada separa a última folha de história da capa de trás então não espere conteúdo extra sumário e etc pois o livro é somente a história e acabou eu esperava ser um pouco mais fiel a versão britânica mas de igual só tem mesmo a capa o resto é só mais uma impressão qualquer sem fazer o devido material premium fiquei decepcionado porque criei muita expectativas e no final a qualidade é bem baixa mesmo o único ponto positivo é só as capas que são lindas mas por dentro é bem pobrezinho boa sorte a todos pegadinha do amazonnão era possível baixar o livro era só pra entrar no sitemarketing negativo mais um ponto pra vocês realmente uma decepção indignada com o site de não especificar o produto custa colocar na descrição que é pocket ou versão econômica além da caixa vir toda riscada e amassada os livros com a capa descascando e todos sujos com algo que parece cola as folhas amassadas rasgadas e com as palavras comidas sinceramente nunca achei que fosse passar por uma coisa dessas um site tão bem falado cometer um erro desse nunca mais compro na amazon e ainda vou abrir um processo nada mais justo conforme outros compradores abaixo optei por esse livro na promoção amamossp por essa promoção esse livro sairia de graça qual não é a surpresa que estão me cobrando equivocadamente o livro digital por r 2100 sinceramente também estou tentando entender como podem colocar um livro digital por um preço absurdo destes comprei um kindle recentemente e adoraria ter esta obra nele mas por um preço abusivo destes não compro nem aqui nem na china e só dei uma estrela porque não é possível dar 0 o livro é ótimo mas quando vi que o livro físico na própria amazon é mais barato que o ebook me senti enganado o texto do livro no celular é exibido em duas colunas dificultando a leitura entrei em contato procurando solução e não obtive estou abismada que existem já avaliações negativas a mais de um ano em relação ao preço deste ebook e mais abismada ainda dele não ter baixado o preço adquiri recentemente o meu kindle e estou muito feliz com ele e fiquei entusiasmada de adquirir o senhor dos anéis no formato ebook mas quando me deparei com este preço desisti na hora apenas queria saber que lógica há em vender este livro no formato digital neste preço estratosférico bom será que alguém esta pagando por isto francamente comprei a versão kindle e depois me confundi e comprei novamente a mesma versão do livro em formato kindle pois a amazon faturou os dois pedidos feitos no mesmo dia e permite compras kindle duplicadas isto não pode continuar principalmente se tratando de conteúdo digital  infelizmente a caixa veio rasgada a amazon prontamente trocou o produto mas veio rasgada novamente na segunda tentativa de troca a amazon entendeu bem o problema mas preferiu devolver o valor pago não era a solução que eu gostaria minha intenção era apenas substituir novamente acabei ficando com o produto avariado mesmo entendo o motivo da opção pelo reembolso a recorrência do problema e os custos envolvidos mas no fim não era a melhor solução para mim comprei um box do harry potter era para ser entregue ontem  pois recebi um email dizendo que nao foi possivel entregar por endereço nao localizado e era para eu entrar em contato com a empresa  como eu irei entrar em contato com a amazon se nem telefone me passaram  e o email que eu respondo nao dar certo  vcs poderiam ligar para nós quando tiverem alguma duvida  para que pedem telefone entao  aguardo resposta de vcs meu email é carolbran31@gmailcom  o livro é muito bom mas a configuração no formato kindle ficou péssima impacta muito na leitura não recomendo a compra no formato kindle vou começar uma leitura em conjunto com vários booktubers e comprei na maior expectativa a caixa da amazon veio extra grande com mais de 30 saquinhos de ar junto com 2outros livrinhos acompanhando mesmo assim a transportadora arrasou com a embalagem toda rasgada e a box veio com as pontas amassadas e danificou meus livros dentro triste demais com a amazon já deixei de com nas americanas submarino na saraivapois os livros vinham empoeirados e agora penso em não comprar mais na amazon pois eles oferecem um calaaboca de 20 do produto pra quem coleciona não importa 20 e sim o produto intacto na estante nota 0 amazon a edição é maravilhosa o preço bom contudo o livro veio rasgado no canto superior direito da lombada é a primeira vez que isso ocorrea amazon costuma ser excelenteé preciso dizer olá abaixo cópia da mensagem enviada à editora lamppm responsável pelo lançamento do sapiens no brasil e referese exclusivamente à versão kindle estou lendo e adorando o sapiens de yuval noah harari no entanto como estou utilizando o kindle para fazêlo estou sendo obrigado a enfrentar um problema enorme a divisão silábica aleatória pela primeira vez num livro em português me deparei com esse aparente defeito na conversão do livro para o formato da amazon falo isso porque não é o primeiro título em português que leio nesse formato e posso atestar que isso nunca me aconteceu antes fico então obrigado a conviver com bizarrices do tipo mulheres cerimônias sacrifício particular moderno desconhecidos e muito muito mais  detalhe alterando o tamanho da fonte não resolve o problema apenas o desloca para outros pontos do texto em inglês isso não é uma surpresa pois não há regra quanto a isso o que posso notar porém é que tanto em inglês quanto em português os livros que li até agora no kindle evitavam ao máximo a separação silábica através de uma simples edição da página de acordo com o tamanho da fonte utilizado no momento a separação se dá apenas eventualmente infelizmente o mesmo não ocorre agora com o sapiens a divisão é constante e em inúmeros e irritantes casos completamente errada na realidade o prazer da leitura vai sendo minado pelo desprazer dessa lamentável falha chegando quase a comprometêlo por completo pergunta teria havido algum problema na conversão desse específico livro para a versão kindle estaria ocorrendo algum conflito de versões já que recentemente tivemos um update do kindle alguém mais trouxe o mesmo problema até vocês informo que estou encaminhando a mesma mensagem para a amazon caso a origem do defeito aqui relatado seja de competência daquela empresa no mais parabéns por editar no brasil um livro tão especial atenciosamente subscrevome na esperança de ter alguma solução para este lamentável contratempo nelson meirelles preço extremamente abusivo queria têlo original porém leio a versão gratuita conseguida facilmente em sites que disponibilizam de graça livros para ereaders comprei os boxes pela primeira vez e o produto chegou em minhas mãos numa caixa bem danificada e ambos boxes comprei 2 estavam machucados fiquei indignado como todo amante de livros entrei em contato com amazon e recebi um excelente atendimento solicitei troca mandei os produtos de volta e recebi novos boxes ontem 05/09 a caixa veio em ótimo estado porém um dos boxes veio com um grande amassão ver fotos e até com livro danificado visto que dessa vez a caixa veio quase em perfeitas condições a conclusão que cheguei é que o produto já saiu danificado das lojas amazon gosto muito da empresa prestam um serviço incrível de atendimento ao cliente mas dessa vez vacilaram feio não irei mandar o produto novamente porque há a possibilidade de me enviarem outro pior o que pode até ter sido o caso desse eu nao ia comprar essa edição pelo fato de a maioria dos comentarios serem negativos mas la fui eu me aventurar e comprei chegou agora o box aqui em minha casa recém chegou com página rasgadas o livro em sí veio todo sujo e arranhado principalmente as lombadas mas isso tudo bem eu ia ficar eai dois dos livros com paginas rasgadas que isso amazon vc ta fazendo um jogo comigo o livro 1 e o 4 estao com as últimas páginas descoladas e rasgadas isso é um absurdo ja pedi meu reembolsoe aconselho a vcs que estao em duvidas de nao comprarem olhem as fotos e tirem suas próprias conclusões oh amazon por favor atualiza essa edição está sem condição de ler faltam frases dos personagens diálogos tem pedaço do livro que não da nem pra entender o que está acontecendo gostei mt porem fiquei desapontado pq o box veio rasgado um pouco na parte se baixo e amassado q chegou ate amassar livro sem tirar na demora pra entrega é com muita tristeza que venho redigir essa resenha mas infelizmente a amazon pecou na venda desse box a fotografia do box aparece livros pretos com acabamento dourados mas recebi livros preto com um péssimo acabamento prata o livro veio com defeito de fábrica com cola grudada em 2 livros e capa descascando em 1 não foi especificada em momento algum da compra que as folhas eram brancas e sem orelha essa compra se justifica numa máxima popular o barato sai caro é uma vergonha não se ter uma versão em português decente para ler no kindle vide informação de problemas relatados tantos anos do lançamento e não temos uma versão confiável peço que verifiquem e reparem este erro acredito que eu e muitos outros usuários se sentem lesados eu verifiquei antes de assinar e vi que toda a série de harry potter estavam disponível pra kindke unlimited e ao dar continuidade à leitura não ter um é injusto logo solicito o reparo imediato do livro digital que sistema horrível de vocês eu não comprei nada eu só clique pra ver melhor eu queria esses livros físicos e não ebook eu só queria ver cancele essa comprar obrigada stela maris há alguns dias atrás adquiri um produto na amazon box sherlock holmes da editora harper collins fiquei feliz pois tamanha era a acessibilidade do preço um dos mais baratos se comparado a outras lojas entretanto hoje ao receber meu box me deparei com uma caixa bastante estreita surpreendendome por não vir com se quer uma espuma ou plástico bolha afinal livros são materiais bastante sensíveis após a retirada da caixa que estava também amassada vi que o box estava amassado em quase todas as bordaso que me pareceu pancadas muito fortes com muitos arranhões e riscos certo que a transportadora encarregada tem boa parte da culpa mas o que custa colocar em uma embalagem maior e mais aconchegante para o produto creio que não irei dar entrada no processo de troca pois a burocracia e a demora para avaliar e reentregar o produto não valeriam a pena minha única felicidade é que os livros apesar da capa ter vindo um pouco amassada também não foram comprometidos em sua parte mais importante que é a leitura porém o produto perdeu todo seu requinte que é o que mais chama a atenção do consumidor na hora da compra esta foi a primeira vez que comprei na amazon porém acho que será a última visto que o custo acessível não vale apena tendo em vista o descuido na entrega do mesmo o box é maravilhoso e chegou antes do previsto mas veio amassado e com várias partes rasgadas a maior delas na parte de baixo como na imagem muito triste gostaria de poder trocar a caixa veio rasgada e os livros parecem usados chegou com atraso e um amassado no box fora uma falha de impressão na capa da camêra secreta esperava mais cuidado no transporte e uma melhor qualidade do material minha experiência com ebook foi frustrante no kindle o livro não tem cor agradável o que desestimula a leitura parece uma xerox primeira vez que uso esta página e a decepção tá sendo total duplicaram meu pedido  e tentei cancelar um deles e adivinhem só impossível ainda que eles afirmam que temos a possibilidade de remover intens ou cancelar o pedido inteiro essa opção não existe ahhh e o número de atenção ao cliente oferecido na página da amazon simplesmente não existe decepção total primeira e última vez que uso esta página pra comprar não recomendo pra ninguém eles não gastam com papel como pode um ebook custar tanto se tivesse mais barato todos iriam comprar é um livro incrivel mas não vale o preço a menos que queira uma versão pocket não compre na descrição do produto não diz nada a devolução irá custar 40 reais para mim ou seja foram desonestos e me prejudicaram no submarino os vendedores são mais honestos informam se a versão é pocket ou não por ser produto não do  meu interesse e recebi como bônus na compra de kindle poderia ter oportunidade de escolher o livro da minha preferência esse preço não existe não tem o menor cabimento é melhor assistir novela mesmo qual a desculpa da editora pra vender o livro por esse preço como pode esse livro está esse preço para o kindle isso é um absurdo além de ser um pedido para não comprarmos  o livro é nota 10 mas o preço que a amazon está cobrando do ebook é nota 0 por essa e outras razões que os livros digitais no brasil ainda não engrenaram como poderiam comprei para presentear então não posso avaliar como gostaria se eu não ler entao é issochato ser obrigado a escrever tudo isso acabo de ver a trilogia impressa por 5490 amazon está sendo ridícula com esse preço pensava seriamente em comprar a edição kindle mas vou ficar com os que tenho mesmo inviável surreal este preço depois reclamam que ebook não vende no brasil ridículo ainda mais quando se compara com o preço dos eua sem chance livro muito velho nao está em estado de conservação partes do livro estavam saindo insatisfeita não recomendo nao recomendo nao recomendo comprei a versão ebook kindle e me arrependi profundamente claramente não passaram muito tempo polindo ela existem diversos erros de formatação que uma simples revisão teria capturado muita gente que comprou esse box reclamou que chegou com algum defeito achei que o meu viria em perfeito estado mas não veio é bem provável que estava na promoção somente os estragados nunca mais compro na amazon supostamente baixei este livro gratis apos uma promoçao de vocês mas na verdade o download não foi realizado houvr algun problema no dia 24052018 eu fiz o pedido do box paguei até ai tudo bem  porem justo na semana a diante a dessa que efetuei o pedido o brasil estava em um tremenda greve geral a atendente da amazon me recomendou a cancelar o pedido pois por conta da greve o meu pedido iria ficar mais de dois dias em separação de estoque o que é errado para a politica interna da empresa tudo bem  cancelei o pedido e em seguida ela fez o reembolso dali em diante começou a dor de cabeça já se fazem um pouco mais de duas semanas que o pedido foi cancelado e nada do reembolso cair na minha conta fiz a compra em debito a vista o que significa que o reembolso deveria acontecer ser o mesmo sem burocracia obsverifiquei com o meu banco e nada consta sobre credito ou debito pendente da amazon em relação com a minha conta o box veio rasgado e não gostei porque parece descaso com o que eu comprei as extremidades toda machucada não gostei do estado que chegou mas os livros são bonitos queria entender o porque não chegou ainda esse livro em minha casa fui até o correio daqui pra ver a estava lá mas eles disseram que a entrega de vocês não usam o correio da minha cidade é algo próprio de vocês comprei esse livro a tempos mas nada dele chegar obrigada cansativo o kindle não facilita as idas e vindas no dicionário nadsat o texto se perde e você tem que ficar procurando onde parou a leitura a coleção é maravilhosa sir arthur conan doyle um mestre mas o produto em si deixa a desejar a caixa onde vem o produto se rasga ou descola fácil pedi a substituição do produto é a amazon disse que demoraria 1 mês para enviar o danificado e só aí iria mandar um novo ridículo como se eu tivesse culpa do envio descuidado deles promoção do black friday que na verdade não era preço inclusive reduziu além de estar acima de outros sites como submarino não tinha a info de que era pocket chegou com a embalagem rasgada burocracia para retorno e nenhum tipo de compensação pelos transtornos o box é maravilhoso mas dois dos livros vieram com a brochura arranhada/rasgada creio que pode ter acontecido na hora de colocarem os livros no box tenho um dispositivo kindle e achei que poderia comprar qualquer ebook disponível no site da amazon porém ao tentar comprar os ebooks do harry potter descobri que precisava fazer uma compra com moeda estrangeira o site da amazon mostra claramente r 899 em reais no entanto ao ser direcionado ao site pottermore o valor é de 899 dólares não comprei é um absurdo o produto veio muito bem embalado e a embalagem para presente é muito bonita e vale o valor pago a pessoa a qual dei de presente gostou muito porém a amazon peca no serviço de entrega eles ficam colocando que o produto saiu para entrega e você fica esperando e ele não chega  isso ocorreu por 4 dias seguidos colocavam as 8h da manhã que o produto saiu para entrega e entregariam até as 20h após as 20h uma mensagem de desculpa era colocada pois não efetuavam a entrega a transportadora escolhida pela amazon é a pior que já me efetuou uma entrega nesse quesito pois ficar 4 dias deixando de fazer alguma atividade ou pedindo para um familiar ficar esperando o pacote e ele não era entregue é desagradável principalmente quando é uma pessoa que está fazendo um favor no seu lugar não vale a pena comprar pelo preço proposto na promoção 99 reais muito caro compre a versão física bem melhor minha primeira experiência de compras com a amazon foi péssima comprei o item para presentear e me atentei à data limite de chegada para que conseguisse entregálo na data correta os livros não chegaram na data e o que é pior a transportadora atualizou o status para entregue dois dias antes da data limite muito provavelmente para não perder a pontuação até entendo que essa época o fluxo de entregas aumentam mas considero falta de respeito ao consumidor omitir o real status de entrega ao produto infelizmente todos os comentários positivos que ouvi da amazon para mim não se concretizaram e eu provavelmente não voltarei a comprar produto chegou danificado com rasgos e amaçados na caixa q envolve a coleção e os livros estão com as capas riscadas  bem decepcionado pois era presente pra minha namorada recebi o produto todo amassado e com páginas dobradas e marcadas não valeu a pena foi de péssima qualidade o serviço não consigo baixar livro para lernão consigo adicionar o livro a minha biblioteca já tentei de várias maneiras e não consegui fazer um dos livros vieram com a capa rasgada eu também cheguei a entrar na página para comprar o livro em questão porém com avaliações como estas desisti da compra acho um absurdo uma empresa como a amazon estar envolvida com pirataria ou mesmo comercializando um material incorreto fraudulento e por sua vez desrespeitando o consumidor absurdo eu comprei e ganhei como vocês anunciaram no entanto não baixou o livro e estou muito chateada gostaria que vocês resolvessem grata o conteúdo é muito bom uma forma diferente de reconhecer fatos e personagens históricos mas o que deveria ser uma experiência agradável e divertida tornase extremamente penosa em razão da formatação da obra algumas páginas ficam com fundo preto há princípio achei que fosse algum defeito do meu kindle mas após ler outras postagens verifiquei que tratavase de problema do ebook o conteúdo é truncado havendo constantes trocas de páginas e as notas que na versão impressa deveriam enriquecer o texto no ebook tornam a compreensão penosa e confusa estou extremamente decepcionado com o resultado e mais ainda com a amazon por após tantas críticas ao material manter o produto à venda em sua loja sem as devidas e necessárias correções nada mais justo seria se a empresa interrompesse a comercialização do livro até efetuar as correções desta forma começo a me arrepender de ter adquirido o kindle pois não vejo muito futuro para a amazon no brasil seguindo como esta a caixa veio  em um  péssimo estado parte de baixo rasgada além de alguns amassados os livros são muito pequenos e sensíveis folhas brancas que atrapalham a leitura e também não vieram em um estado muito bom parecia que estava comprando um livro usado   não recomendo a compra só não devolvo pois paguei um preço muito baixo em uma promoção e teria que pagar pelo frete vai ficar encalhado na minha estante recomendo muito mais comprar os 5 livros originais que se encontram em promoção em diversos sites pelo mesmo valor o valor do ebook está vergonhoso quero muito mas assim não tem como comprar enquanto não baixar consideravelmente não compro o livro foi classificado como novo no site e chegou em péssimo estado totalmente amassado como se fosse um livro com valor de 3 reais não gostei porquê a capa veio com um rasgo o que para edição de colecionador é péssimo espero que das próximas vezes que eu comprar não venham novamente com defeitos ou algo do tipo eu nem se quer recebi o produto voces são muito cara de pau em enviar este email ja falei com o atendimento ao cliente um monte de vezes que ainda nao recebi meu produto em casa em um mes depois da compra não consigo entender o alto valor desses ebooks amazon a obra vale 10 estrelas o preço uma só vamos melhorar o preço desses ebooks a caixa veio rasgada e amassada gostaria de uma caixa nova se possivel mas os livros estão em otimo estado \n"
     ]
    }
   ],
   "source": [
    "import re\n",
    "\n",
    "def remove_emojis(texto):\n",
    "    emoji_pattern = re.compile(\"[\"\n",
    "                           u\"\\U0001F600-\\U0001F64F\"  # Emoticons\n",
    "                           u\"\\U0001F300-\\U0001F5FF\"  # Símbolos e pictogramas diversos\n",
    "                           u\"\\U0001F700-\\U0001F77F\"  # Símbolos alquímicos\n",
    "                           u\"\\U0001F780-\\U0001F7FF\"  # Símbolos de palavras\n",
    "                           u\"\\U0001F800-\\U0001F8FF\"  # Símbolos de árabes estendidos-A\n",
    "                           u\"\\U0001F900-\\U0001F9FF\"  # Símbolos suplementares de árabes estendidos-B\n",
    "                           u\"\\U0001FA00-\\U0001FA6F\"  # Símbolos de xadrez\n",
    "                           u\"\\U0001FA70-\\U0001FAFF\"  # Símbolos suplementares de xadrez\n",
    "                           u\"\\U0001F004-\\U0001F0CF\"  # Símbolos de domino\n",
    "                           u\"\\U0001F170-\\U0001F251\"  # Símbolos de tai-xi\n",
    "                           u\"\\U0001F300-\\U0001F5FF\"  # Símbolos e pictogramas diversos\n",
    "                           u\"\\U0001F600-\\U0001F64F\"  # Emoticons\n",
    "                           u\"\\U0001F680-\\U0001F6FF\"  # Transporte e mapas\n",
    "                           u\"\\U0001F700-\\U0001F77F\"  # Símbolos alquímicos\n",
    "                           u\"\\U0001F780-\\U0001F7FF\"  # Símbolos de palavras\n",
    "                           u\"\\U0001F800-\\U0001F8FF\"  # Símbolos de árabes estendidos-A\n",
    "                           u\"\\U0001FA00-\\U0001FA6F\"  # Símbolos de xadrez\n",
    "                           u\"\\U0001FA70-\\U0001FAFF\"  # Símbolos suplementares de xadrez\n",
    "                           \"]+\", flags=re.UNICODE)\n",
    "    \n",
    "    return emoji_pattern.sub(r'', texto)\n",
    "print(remove_emojis(' '.join(texto_amazon)))"
   ]
  },
  {
   "cell_type": "markdown",
   "metadata": {},
   "source": [
    "___\n",
    "## Referências"
   ]
  },
  {
   "cell_type": "markdown",
   "metadata": {},
   "source": [
    "[Naive Bayes and Text Classification](https://arxiv.org/pdf/1410.5329.pdf)  **Mais completo**\n",
    "\n",
    "[A practical explanation of a Naive Bayes Classifier](https://monkeylearn.com/blog/practical-explanation-naive-bayes-classifier/) **Mais simples**"
   ]
  },
  {
   "cell_type": "code",
   "execution_count": null,
   "metadata": {},
   "outputs": [],
   "source": [
    "\n",
    "    "
   ]
  },
  {
   "cell_type": "code",
   "execution_count": null,
   "metadata": {},
   "outputs": [],
   "source": []
  }
 ],
 "metadata": {
  "kernelspec": {
   "display_name": "Python 3 (ipykernel)",
   "language": "python",
   "name": "python3"
  },
  "language_info": {
   "codemirror_mode": {
    "name": "ipython",
    "version": 3
   },
   "file_extension": ".py",
   "mimetype": "text/x-python",
   "name": "python",
   "nbconvert_exporter": "python",
   "pygments_lexer": "ipython3",
   "version": "3.9.13"
  }
 },
 "nbformat": 4,
 "nbformat_minor": 4
}
